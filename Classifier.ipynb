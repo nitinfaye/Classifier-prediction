{
  "nbformat": 4,
  "nbformat_minor": 0,
  "metadata": {
    "colab": {
      "name": "Classifier.ipynb",
      "provenance": [],
      "collapsed_sections": [
        "kW3c7UYih0hT"
      ],
      "authorship_tag": "ABX9TyOUWlp0PWfOf3I43368h8xc",
      "include_colab_link": true
    },
    "kernelspec": {
      "name": "python3",
      "display_name": "Python 3"
    },
    "language_info": {
      "name": "python"
    }
  },
  "cells": [
    {
      "cell_type": "markdown",
      "metadata": {
        "id": "view-in-github",
        "colab_type": "text"
      },
      "source": [
        "<a href=\"https://colab.research.google.com/github/nitinfaye/Classifier-prediction/blob/main/Classifier.ipynb\" target=\"_parent\"><img src=\"https://colab.research.google.com/assets/colab-badge.svg\" alt=\"Open In Colab\"/></a>"
      ]
    },
    {
      "cell_type": "markdown",
      "metadata": {
        "id": "wPhAds6Ygp-S"
      },
      "source": [
        "Homework 2.\n",
        "##Question 1\n",
        "**Decision Tree Classifier**[10 Points]\n",
        "\n",
        "Data: The zip file “hw2.q1.data.zip” contains 3 CSV files: \n",
        "•\t“hw2.q1.train.csv” contains 10,000 rows and 26 columns. The first column ‘y’ is the output variable with 2 classes: 0, 1. The remaining 25 columns contain input features: x_1, …, x_25. \n",
        "•\t“hw2.q1.test.csv” contains 5,000 rows and 41 columns. The first column ‘y’ is the output variable with 2 classes: 0, 1. The remaining 25 columns contain input features: x_1, …, x_25.\n",
        "•\t“hw2.q1.new.csv” contains 30 rows and 26 columns. The first column ‘ID’ is an identifier for 30 unlabeled samples. The remaining 25 columns contain input features: x_1, …, x_25.\n",
        "\n",
        "**Task 1.** [4 points]\n",
        "Use 5-fold cross-validationwith the 10,000 labeled exampled from “hw2.q1.train.csv” to determine the fewest number of rules using which a decision tree classifier can achieve mean cross-validation accuracy of at least 0.96.  Report the number of rules needed, the cross-validation accuracy obtained, and all the hyper-parameter values for the DecisionTreeClassifier.\n",
        "Number of rules needed:……………….\n",
        "Mean cross-validation accuracy: ………………………. (rounded to 4 decimal places)\n",
        "Hyper-parameter values for selected DecisionTreeClassifier model\n",
        "\n",
        "**Task 2.** [2 Points]\n",
        "Train a DecisionTreeClassifier with the hyper-parameter values determined in Task 1 on all 10,000 training samples and use it to predict the output class ‘y’ for the 2,000 examples in “hw2.q1.test.csv”. Report the following:\n",
        "•\tAccuracy on 2,000 test examples: ……………………  (rounded to 4 decimal places)\n",
        "•\tClassification report for the 2,000 test examples:\n",
        "•\tOf the 952 test samples that belong to class y=1, how many are correctly predicted (according to your classification report)?\n",
        "\n",
        "**Task 3.** [2 Points]\n",
        "Use the model trained in Task 2 to predict the output class ‘y’ for the 30 examples in “hw2.q1.new.csv”. Specify the predicted classes in the table below:\n",
        "\n",
        "**Task 4.** [2 Points]\n",
        "Of the 25 input variables which ones are relevant for this classification task?\n",
        "The following input variables are relevant for this classification task: …………………\n",
        "\n",
        "Interpret your trained model and specify the rules that can be used to classify the output based on the inputs.\n"
      ]
    },
    {
      "cell_type": "markdown",
      "metadata": {
        "id": "offm-HFFxhZD"
      },
      "source": [
        "##Qustion 2\n",
        "**Data:**\n",
        "\n",
        " The zip file “hw2.q2.data.zip” contains 3 CSV files: \n",
        "•\t“hw2.q2.train.csv” contains 8,000 rows and 11 columns. The first column ‘y’ is the output variable with 4 classes: 0, 1, 2, 3. The remaining 10 columns contain input features: x1, …, x10. \n",
        "•\t“hw2.q2.test.csv” contains 2,000 rows and 11 columns. The first column ‘y’ is the output variable with 4 classes: 0, 1, 2, 3. The remaining 10 columns contain input features: x1, …, x10.\n",
        "•\t“hw2.q1.new.csv” contains 30 rows and 10 columns. The first column ‘ID’ is an identifier for 30 unlabeled samples. The remaining 10 columns contain input features: x1, …, x10.\n",
        "\n",
        "**Task**\n",
        "\n",
        "1.\n",
        "[6 points]\n",
        "\n",
        "Use 4-fold cross-validation with the 8,000 labeled exampled from “hw2.q2.train.csv” to identify a classifier that achieves mean cross-validation accuracy of at least 0.96.  You should try several Scikit-Learn classifiers, including: GaussianNB, DecisionTreeClassifier, RandomForestClassifier, ExtraTreesClassifier, KNeighborsClassifier, LogisticRegression, SVC, and MLPClassifier. Try different hyper-parameter values for the better performing classifiers to obtain a good set of hyper-parameter values. Then select the best performing model. Report the following:\n",
        "Selected model with hyper-parameter values:\n",
        "\n",
        "**Task**\n",
        " 2. [2 Points]\n",
        "Train the classifier with the hyper-parameter values determined in Task 1 on all 8,000 training samples and use it to predict the output class ‘y’ for the 2,000 examples in “hw2.q2.test.csv”. Report the following:\n",
        "•\tAccuracy on 2,000 test examples: ……………………  (rounded to 4 decimal places)\n",
        "\n",
        "•\tClassification report for the 2,000 test examples:\n",
        "\n",
        "•\tOf the 500 test samples that belong to class y=0, how many are correctly predicted (according to your classification report)?\n",
        "\n",
        "**Task**\n",
        " 3. [2 Points]\n",
        "Use the model trained in Task 2 to predict the output class ‘y’ for the 30 examples in “hw2.q2.new.csv”. "
      ]
    },
    {
      "cell_type": "code",
      "metadata": {
        "id": "g2-EIrLj7jCZ"
      },
      "source": [
        "import pandas as pd\n",
        "import numpy as np\n",
        "import seaborn as sns\n",
        "import matplotlib.pyplot as plt\n",
        "import warnings\n"
      ],
      "execution_count": 1,
      "outputs": []
    },
    {
      "cell_type": "code",
      "metadata": {
        "id": "7h8CeH8wHA_R"
      },
      "source": [
        "from sklearn.metrics import accuracy_score, log_loss\n",
        "from sklearn.neighbors import KNeighborsClassifier\n",
        "from sklearn.svm import SVC, LinearSVC, NuSVC\n",
        "from sklearn.tree import DecisionTreeClassifier\n",
        "from sklearn.ensemble import RandomForestClassifier, AdaBoostClassifier, GradientBoostingClassifier\n",
        "from sklearn.naive_bayes import GaussianNB\n",
        "from sklearn.discriminant_analysis import LinearDiscriminantAnalysis\n",
        "from sklearn.discriminant_analysis import QuadraticDiscriminantAnalysis\n",
        "from sklearn.metrics import confusion_matrix, accuracy_score\n",
        "from sklearn.preprocessing import StandardScaler\n",
        "\n",
        "classifiers = [\n",
        "    KNeighborsClassifier(3),\n",
        "    SVC(kernel=\"rbf\", C=0.025, probability=True),\n",
        "    NuSVC(probability=True),\n",
        "    DecisionTreeClassifier(),\n",
        "    RandomForestClassifier(),\n",
        "    AdaBoostClassifier(),\n",
        "    GradientBoostingClassifier(),\n",
        "    GaussianNB(),\n",
        "    LinearDiscriminantAnalysis(),\n",
        "    QuadraticDiscriminantAnalysis()]\n"
      ],
      "execution_count": 2,
      "outputs": []
    },
    {
      "cell_type": "markdown",
      "metadata": {
        "id": "g95FdwEPhlxd"
      },
      "source": [
        "##Question 1 "
      ]
    },
    {
      "cell_type": "code",
      "metadata": {
        "id": "a2ZOpU9YQUPi"
      },
      "source": [
        "q1_new = pd.read_csv(\"/content/hw2.q1.new.csv\")\n",
        "q1_train = pd.read_csv(\"/content/hw2.q1.train.csv\")\n",
        "q1_test = pd.read_csv(\"/content/hw2.q1.test.csv\")"
      ],
      "execution_count": 3,
      "outputs": []
    },
    {
      "cell_type": "code",
      "metadata": {
        "colab": {
          "base_uri": "https://localhost:8080/",
          "height": 224
        },
        "id": "cejPyUUWRhCU",
        "outputId": "efca32b4-70d4-43dd-a81d-6a6d909668c8"
      },
      "source": [
        "q1_new.head()"
      ],
      "execution_count": 4,
      "outputs": [
        {
          "output_type": "execute_result",
          "data": {
            "text/html": [
              "<div>\n",
              "<style scoped>\n",
              "    .dataframe tbody tr th:only-of-type {\n",
              "        vertical-align: middle;\n",
              "    }\n",
              "\n",
              "    .dataframe tbody tr th {\n",
              "        vertical-align: top;\n",
              "    }\n",
              "\n",
              "    .dataframe thead th {\n",
              "        text-align: right;\n",
              "    }\n",
              "</style>\n",
              "<table border=\"1\" class=\"dataframe\">\n",
              "  <thead>\n",
              "    <tr style=\"text-align: right;\">\n",
              "      <th></th>\n",
              "      <th>ID</th>\n",
              "      <th>x_1</th>\n",
              "      <th>x_2</th>\n",
              "      <th>x_3</th>\n",
              "      <th>x_4</th>\n",
              "      <th>x_5</th>\n",
              "      <th>x_6</th>\n",
              "      <th>x_7</th>\n",
              "      <th>x_8</th>\n",
              "      <th>x_9</th>\n",
              "      <th>x_10</th>\n",
              "      <th>x_11</th>\n",
              "      <th>x_12</th>\n",
              "      <th>x_13</th>\n",
              "      <th>x_14</th>\n",
              "      <th>x_15</th>\n",
              "      <th>x_16</th>\n",
              "      <th>x_17</th>\n",
              "      <th>x_18</th>\n",
              "      <th>x_19</th>\n",
              "      <th>x_20</th>\n",
              "      <th>x_21</th>\n",
              "      <th>x_22</th>\n",
              "      <th>x_23</th>\n",
              "      <th>x_24</th>\n",
              "      <th>x_25</th>\n",
              "    </tr>\n",
              "  </thead>\n",
              "  <tbody>\n",
              "    <tr>\n",
              "      <th>0</th>\n",
              "      <td>ID_001</td>\n",
              "      <td>0.673</td>\n",
              "      <td>0.822</td>\n",
              "      <td>0.020</td>\n",
              "      <td>0.554</td>\n",
              "      <td>0.422</td>\n",
              "      <td>0.759</td>\n",
              "      <td>0.468</td>\n",
              "      <td>0.073</td>\n",
              "      <td>0.302</td>\n",
              "      <td>0.354</td>\n",
              "      <td>0.218</td>\n",
              "      <td>0.484</td>\n",
              "      <td>0.482</td>\n",
              "      <td>0.142</td>\n",
              "      <td>0.859</td>\n",
              "      <td>0.571</td>\n",
              "      <td>0.877</td>\n",
              "      <td>0.274</td>\n",
              "      <td>0.965</td>\n",
              "      <td>0.835</td>\n",
              "      <td>0.902</td>\n",
              "      <td>0.911</td>\n",
              "      <td>0.075</td>\n",
              "      <td>0.005</td>\n",
              "      <td>0.735</td>\n",
              "    </tr>\n",
              "    <tr>\n",
              "      <th>1</th>\n",
              "      <td>ID_002</td>\n",
              "      <td>0.911</td>\n",
              "      <td>0.460</td>\n",
              "      <td>0.566</td>\n",
              "      <td>0.883</td>\n",
              "      <td>0.145</td>\n",
              "      <td>0.857</td>\n",
              "      <td>0.734</td>\n",
              "      <td>0.391</td>\n",
              "      <td>0.853</td>\n",
              "      <td>0.253</td>\n",
              "      <td>0.920</td>\n",
              "      <td>0.177</td>\n",
              "      <td>0.622</td>\n",
              "      <td>0.902</td>\n",
              "      <td>0.322</td>\n",
              "      <td>0.941</td>\n",
              "      <td>0.040</td>\n",
              "      <td>0.947</td>\n",
              "      <td>0.916</td>\n",
              "      <td>0.857</td>\n",
              "      <td>0.893</td>\n",
              "      <td>0.578</td>\n",
              "      <td>0.371</td>\n",
              "      <td>0.205</td>\n",
              "      <td>0.799</td>\n",
              "    </tr>\n",
              "    <tr>\n",
              "      <th>2</th>\n",
              "      <td>ID_003</td>\n",
              "      <td>0.585</td>\n",
              "      <td>0.922</td>\n",
              "      <td>0.298</td>\n",
              "      <td>0.114</td>\n",
              "      <td>0.037</td>\n",
              "      <td>0.792</td>\n",
              "      <td>0.138</td>\n",
              "      <td>0.131</td>\n",
              "      <td>0.491</td>\n",
              "      <td>0.250</td>\n",
              "      <td>0.830</td>\n",
              "      <td>0.898</td>\n",
              "      <td>0.495</td>\n",
              "      <td>0.713</td>\n",
              "      <td>0.098</td>\n",
              "      <td>0.945</td>\n",
              "      <td>0.696</td>\n",
              "      <td>0.521</td>\n",
              "      <td>0.543</td>\n",
              "      <td>0.401</td>\n",
              "      <td>0.383</td>\n",
              "      <td>0.723</td>\n",
              "      <td>0.742</td>\n",
              "      <td>0.828</td>\n",
              "      <td>0.586</td>\n",
              "    </tr>\n",
              "    <tr>\n",
              "      <th>3</th>\n",
              "      <td>ID_004</td>\n",
              "      <td>0.900</td>\n",
              "      <td>0.366</td>\n",
              "      <td>0.082</td>\n",
              "      <td>0.498</td>\n",
              "      <td>0.585</td>\n",
              "      <td>0.494</td>\n",
              "      <td>0.491</td>\n",
              "      <td>0.730</td>\n",
              "      <td>0.396</td>\n",
              "      <td>0.664</td>\n",
              "      <td>0.647</td>\n",
              "      <td>0.512</td>\n",
              "      <td>0.035</td>\n",
              "      <td>0.597</td>\n",
              "      <td>0.475</td>\n",
              "      <td>0.917</td>\n",
              "      <td>0.041</td>\n",
              "      <td>0.820</td>\n",
              "      <td>0.811</td>\n",
              "      <td>0.624</td>\n",
              "      <td>0.936</td>\n",
              "      <td>0.906</td>\n",
              "      <td>0.951</td>\n",
              "      <td>0.199</td>\n",
              "      <td>0.723</td>\n",
              "    </tr>\n",
              "    <tr>\n",
              "      <th>4</th>\n",
              "      <td>ID_005</td>\n",
              "      <td>0.850</td>\n",
              "      <td>0.067</td>\n",
              "      <td>0.861</td>\n",
              "      <td>0.420</td>\n",
              "      <td>0.448</td>\n",
              "      <td>0.259</td>\n",
              "      <td>0.948</td>\n",
              "      <td>0.066</td>\n",
              "      <td>0.249</td>\n",
              "      <td>0.059</td>\n",
              "      <td>0.224</td>\n",
              "      <td>0.875</td>\n",
              "      <td>0.921</td>\n",
              "      <td>0.046</td>\n",
              "      <td>0.402</td>\n",
              "      <td>0.684</td>\n",
              "      <td>0.180</td>\n",
              "      <td>0.305</td>\n",
              "      <td>0.764</td>\n",
              "      <td>0.248</td>\n",
              "      <td>0.452</td>\n",
              "      <td>0.479</td>\n",
              "      <td>0.445</td>\n",
              "      <td>0.802</td>\n",
              "      <td>0.627</td>\n",
              "    </tr>\n",
              "  </tbody>\n",
              "</table>\n",
              "</div>"
            ],
            "text/plain": [
              "       ID    x_1    x_2    x_3    x_4  ...   x_21   x_22   x_23   x_24   x_25\n",
              "0  ID_001  0.673  0.822  0.020  0.554  ...  0.902  0.911  0.075  0.005  0.735\n",
              "1  ID_002  0.911  0.460  0.566  0.883  ...  0.893  0.578  0.371  0.205  0.799\n",
              "2  ID_003  0.585  0.922  0.298  0.114  ...  0.383  0.723  0.742  0.828  0.586\n",
              "3  ID_004  0.900  0.366  0.082  0.498  ...  0.936  0.906  0.951  0.199  0.723\n",
              "4  ID_005  0.850  0.067  0.861  0.420  ...  0.452  0.479  0.445  0.802  0.627\n",
              "\n",
              "[5 rows x 26 columns]"
            ]
          },
          "metadata": {
            "tags": []
          },
          "execution_count": 4
        }
      ]
    },
    {
      "cell_type": "code",
      "metadata": {
        "colab": {
          "base_uri": "https://localhost:8080/",
          "height": 204
        },
        "id": "vHJX8sD_RvIZ",
        "outputId": "1b0aa958-eaf1-488f-add2-8e291af98708"
      },
      "source": [
        "q1_train.head()"
      ],
      "execution_count": 5,
      "outputs": [
        {
          "output_type": "execute_result",
          "data": {
            "text/html": [
              "<div>\n",
              "<style scoped>\n",
              "    .dataframe tbody tr th:only-of-type {\n",
              "        vertical-align: middle;\n",
              "    }\n",
              "\n",
              "    .dataframe tbody tr th {\n",
              "        vertical-align: top;\n",
              "    }\n",
              "\n",
              "    .dataframe thead th {\n",
              "        text-align: right;\n",
              "    }\n",
              "</style>\n",
              "<table border=\"1\" class=\"dataframe\">\n",
              "  <thead>\n",
              "    <tr style=\"text-align: right;\">\n",
              "      <th></th>\n",
              "      <th>y</th>\n",
              "      <th>x_1</th>\n",
              "      <th>x_2</th>\n",
              "      <th>x_3</th>\n",
              "      <th>x_4</th>\n",
              "      <th>x_5</th>\n",
              "      <th>x_6</th>\n",
              "      <th>x_7</th>\n",
              "      <th>x_8</th>\n",
              "      <th>x_9</th>\n",
              "      <th>x_10</th>\n",
              "      <th>x_11</th>\n",
              "      <th>x_12</th>\n",
              "      <th>x_13</th>\n",
              "      <th>x_14</th>\n",
              "      <th>x_15</th>\n",
              "      <th>x_16</th>\n",
              "      <th>x_17</th>\n",
              "      <th>x_18</th>\n",
              "      <th>x_19</th>\n",
              "      <th>x_20</th>\n",
              "      <th>x_21</th>\n",
              "      <th>x_22</th>\n",
              "      <th>x_23</th>\n",
              "      <th>x_24</th>\n",
              "      <th>x_25</th>\n",
              "    </tr>\n",
              "  </thead>\n",
              "  <tbody>\n",
              "    <tr>\n",
              "      <th>0</th>\n",
              "      <td>1.0</td>\n",
              "      <td>0.523</td>\n",
              "      <td>0.303</td>\n",
              "      <td>0.898</td>\n",
              "      <td>0.505</td>\n",
              "      <td>0.264</td>\n",
              "      <td>0.441</td>\n",
              "      <td>0.794</td>\n",
              "      <td>0.868</td>\n",
              "      <td>0.744</td>\n",
              "      <td>0.278</td>\n",
              "      <td>0.624</td>\n",
              "      <td>0.546</td>\n",
              "      <td>0.801</td>\n",
              "      <td>0.005</td>\n",
              "      <td>0.074</td>\n",
              "      <td>0.136</td>\n",
              "      <td>0.187</td>\n",
              "      <td>0.452</td>\n",
              "      <td>0.459</td>\n",
              "      <td>0.656</td>\n",
              "      <td>0.126</td>\n",
              "      <td>0.245</td>\n",
              "      <td>0.973</td>\n",
              "      <td>0.917</td>\n",
              "      <td>0.740</td>\n",
              "    </tr>\n",
              "    <tr>\n",
              "      <th>1</th>\n",
              "      <td>0.0</td>\n",
              "      <td>0.546</td>\n",
              "      <td>0.782</td>\n",
              "      <td>0.323</td>\n",
              "      <td>0.495</td>\n",
              "      <td>0.970</td>\n",
              "      <td>0.127</td>\n",
              "      <td>0.167</td>\n",
              "      <td>0.359</td>\n",
              "      <td>0.065</td>\n",
              "      <td>0.497</td>\n",
              "      <td>0.260</td>\n",
              "      <td>0.497</td>\n",
              "      <td>0.852</td>\n",
              "      <td>0.870</td>\n",
              "      <td>0.289</td>\n",
              "      <td>0.616</td>\n",
              "      <td>0.734</td>\n",
              "      <td>0.935</td>\n",
              "      <td>0.782</td>\n",
              "      <td>0.218</td>\n",
              "      <td>0.223</td>\n",
              "      <td>0.931</td>\n",
              "      <td>0.205</td>\n",
              "      <td>0.487</td>\n",
              "      <td>0.065</td>\n",
              "    </tr>\n",
              "    <tr>\n",
              "      <th>2</th>\n",
              "      <td>0.0</td>\n",
              "      <td>0.441</td>\n",
              "      <td>0.260</td>\n",
              "      <td>0.824</td>\n",
              "      <td>0.715</td>\n",
              "      <td>0.071</td>\n",
              "      <td>0.004</td>\n",
              "      <td>0.819</td>\n",
              "      <td>0.063</td>\n",
              "      <td>0.343</td>\n",
              "      <td>0.697</td>\n",
              "      <td>0.496</td>\n",
              "      <td>0.754</td>\n",
              "      <td>0.938</td>\n",
              "      <td>0.615</td>\n",
              "      <td>0.172</td>\n",
              "      <td>0.209</td>\n",
              "      <td>0.174</td>\n",
              "      <td>0.542</td>\n",
              "      <td>0.970</td>\n",
              "      <td>0.171</td>\n",
              "      <td>0.459</td>\n",
              "      <td>0.316</td>\n",
              "      <td>0.949</td>\n",
              "      <td>0.871</td>\n",
              "      <td>0.720</td>\n",
              "    </tr>\n",
              "    <tr>\n",
              "      <th>3</th>\n",
              "      <td>1.0</td>\n",
              "      <td>0.759</td>\n",
              "      <td>0.953</td>\n",
              "      <td>0.821</td>\n",
              "      <td>0.593</td>\n",
              "      <td>0.017</td>\n",
              "      <td>0.359</td>\n",
              "      <td>0.840</td>\n",
              "      <td>0.257</td>\n",
              "      <td>0.344</td>\n",
              "      <td>0.232</td>\n",
              "      <td>0.904</td>\n",
              "      <td>0.318</td>\n",
              "      <td>0.432</td>\n",
              "      <td>0.673</td>\n",
              "      <td>0.753</td>\n",
              "      <td>0.186</td>\n",
              "      <td>0.433</td>\n",
              "      <td>0.032</td>\n",
              "      <td>0.331</td>\n",
              "      <td>0.476</td>\n",
              "      <td>0.689</td>\n",
              "      <td>0.081</td>\n",
              "      <td>0.930</td>\n",
              "      <td>0.512</td>\n",
              "      <td>0.914</td>\n",
              "    </tr>\n",
              "    <tr>\n",
              "      <th>4</th>\n",
              "      <td>0.0</td>\n",
              "      <td>0.830</td>\n",
              "      <td>0.736</td>\n",
              "      <td>0.319</td>\n",
              "      <td>0.900</td>\n",
              "      <td>0.966</td>\n",
              "      <td>0.641</td>\n",
              "      <td>0.384</td>\n",
              "      <td>0.236</td>\n",
              "      <td>0.924</td>\n",
              "      <td>0.590</td>\n",
              "      <td>0.635</td>\n",
              "      <td>0.903</td>\n",
              "      <td>0.950</td>\n",
              "      <td>0.495</td>\n",
              "      <td>0.142</td>\n",
              "      <td>0.238</td>\n",
              "      <td>0.276</td>\n",
              "      <td>0.708</td>\n",
              "      <td>0.018</td>\n",
              "      <td>0.354</td>\n",
              "      <td>0.205</td>\n",
              "      <td>0.257</td>\n",
              "      <td>0.604</td>\n",
              "      <td>0.467</td>\n",
              "      <td>0.638</td>\n",
              "    </tr>\n",
              "  </tbody>\n",
              "</table>\n",
              "</div>"
            ],
            "text/plain": [
              "     y    x_1    x_2    x_3    x_4  ...   x_21   x_22   x_23   x_24   x_25\n",
              "0  1.0  0.523  0.303  0.898  0.505  ...  0.126  0.245  0.973  0.917  0.740\n",
              "1  0.0  0.546  0.782  0.323  0.495  ...  0.223  0.931  0.205  0.487  0.065\n",
              "2  0.0  0.441  0.260  0.824  0.715  ...  0.459  0.316  0.949  0.871  0.720\n",
              "3  1.0  0.759  0.953  0.821  0.593  ...  0.689  0.081  0.930  0.512  0.914\n",
              "4  0.0  0.830  0.736  0.319  0.900  ...  0.205  0.257  0.604  0.467  0.638\n",
              "\n",
              "[5 rows x 26 columns]"
            ]
          },
          "metadata": {
            "tags": []
          },
          "execution_count": 5
        }
      ]
    },
    {
      "cell_type": "code",
      "metadata": {
        "colab": {
          "base_uri": "https://localhost:8080/",
          "height": 204
        },
        "id": "oz3eCHnvR1Vx",
        "outputId": "827bebd1-e9b3-4093-f967-47ced0bea1c7"
      },
      "source": [
        "q1_test.head()"
      ],
      "execution_count": 6,
      "outputs": [
        {
          "output_type": "execute_result",
          "data": {
            "text/html": [
              "<div>\n",
              "<style scoped>\n",
              "    .dataframe tbody tr th:only-of-type {\n",
              "        vertical-align: middle;\n",
              "    }\n",
              "\n",
              "    .dataframe tbody tr th {\n",
              "        vertical-align: top;\n",
              "    }\n",
              "\n",
              "    .dataframe thead th {\n",
              "        text-align: right;\n",
              "    }\n",
              "</style>\n",
              "<table border=\"1\" class=\"dataframe\">\n",
              "  <thead>\n",
              "    <tr style=\"text-align: right;\">\n",
              "      <th></th>\n",
              "      <th>y</th>\n",
              "      <th>x_1</th>\n",
              "      <th>x_2</th>\n",
              "      <th>x_3</th>\n",
              "      <th>x_4</th>\n",
              "      <th>x_5</th>\n",
              "      <th>x_6</th>\n",
              "      <th>x_7</th>\n",
              "      <th>x_8</th>\n",
              "      <th>x_9</th>\n",
              "      <th>x_10</th>\n",
              "      <th>x_11</th>\n",
              "      <th>x_12</th>\n",
              "      <th>x_13</th>\n",
              "      <th>x_14</th>\n",
              "      <th>x_15</th>\n",
              "      <th>x_16</th>\n",
              "      <th>x_17</th>\n",
              "      <th>x_18</th>\n",
              "      <th>x_19</th>\n",
              "      <th>x_20</th>\n",
              "      <th>x_21</th>\n",
              "      <th>x_22</th>\n",
              "      <th>x_23</th>\n",
              "      <th>x_24</th>\n",
              "      <th>x_25</th>\n",
              "    </tr>\n",
              "  </thead>\n",
              "  <tbody>\n",
              "    <tr>\n",
              "      <th>0</th>\n",
              "      <td>0.0</td>\n",
              "      <td>0.631</td>\n",
              "      <td>0.574</td>\n",
              "      <td>0.672</td>\n",
              "      <td>0.767</td>\n",
              "      <td>0.734</td>\n",
              "      <td>0.614</td>\n",
              "      <td>0.689</td>\n",
              "      <td>0.621</td>\n",
              "      <td>0.953</td>\n",
              "      <td>0.499</td>\n",
              "      <td>0.411</td>\n",
              "      <td>0.153</td>\n",
              "      <td>0.735</td>\n",
              "      <td>0.172</td>\n",
              "      <td>0.171</td>\n",
              "      <td>0.512</td>\n",
              "      <td>0.622</td>\n",
              "      <td>0.027</td>\n",
              "      <td>0.403</td>\n",
              "      <td>0.942</td>\n",
              "      <td>0.066</td>\n",
              "      <td>0.947</td>\n",
              "      <td>0.661</td>\n",
              "      <td>0.258</td>\n",
              "      <td>0.785</td>\n",
              "    </tr>\n",
              "    <tr>\n",
              "      <th>1</th>\n",
              "      <td>1.0</td>\n",
              "      <td>0.388</td>\n",
              "      <td>0.684</td>\n",
              "      <td>0.756</td>\n",
              "      <td>0.768</td>\n",
              "      <td>0.684</td>\n",
              "      <td>0.302</td>\n",
              "      <td>0.694</td>\n",
              "      <td>0.981</td>\n",
              "      <td>0.189</td>\n",
              "      <td>0.244</td>\n",
              "      <td>0.890</td>\n",
              "      <td>0.054</td>\n",
              "      <td>0.211</td>\n",
              "      <td>0.751</td>\n",
              "      <td>0.013</td>\n",
              "      <td>0.603</td>\n",
              "      <td>0.846</td>\n",
              "      <td>0.301</td>\n",
              "      <td>0.007</td>\n",
              "      <td>0.567</td>\n",
              "      <td>0.698</td>\n",
              "      <td>0.262</td>\n",
              "      <td>0.439</td>\n",
              "      <td>0.172</td>\n",
              "      <td>0.310</td>\n",
              "    </tr>\n",
              "    <tr>\n",
              "      <th>2</th>\n",
              "      <td>0.0</td>\n",
              "      <td>0.567</td>\n",
              "      <td>0.298</td>\n",
              "      <td>0.023</td>\n",
              "      <td>0.853</td>\n",
              "      <td>0.669</td>\n",
              "      <td>0.792</td>\n",
              "      <td>0.381</td>\n",
              "      <td>0.347</td>\n",
              "      <td>0.304</td>\n",
              "      <td>0.350</td>\n",
              "      <td>0.339</td>\n",
              "      <td>0.578</td>\n",
              "      <td>0.187</td>\n",
              "      <td>0.533</td>\n",
              "      <td>0.286</td>\n",
              "      <td>0.980</td>\n",
              "      <td>0.940</td>\n",
              "      <td>0.817</td>\n",
              "      <td>0.329</td>\n",
              "      <td>0.539</td>\n",
              "      <td>0.982</td>\n",
              "      <td>0.708</td>\n",
              "      <td>0.052</td>\n",
              "      <td>0.757</td>\n",
              "      <td>0.355</td>\n",
              "    </tr>\n",
              "    <tr>\n",
              "      <th>3</th>\n",
              "      <td>0.0</td>\n",
              "      <td>0.662</td>\n",
              "      <td>0.887</td>\n",
              "      <td>0.243</td>\n",
              "      <td>0.215</td>\n",
              "      <td>0.954</td>\n",
              "      <td>0.977</td>\n",
              "      <td>0.312</td>\n",
              "      <td>0.630</td>\n",
              "      <td>0.224</td>\n",
              "      <td>0.563</td>\n",
              "      <td>0.245</td>\n",
              "      <td>0.580</td>\n",
              "      <td>0.680</td>\n",
              "      <td>0.137</td>\n",
              "      <td>0.436</td>\n",
              "      <td>0.552</td>\n",
              "      <td>0.402</td>\n",
              "      <td>0.328</td>\n",
              "      <td>0.812</td>\n",
              "      <td>0.812</td>\n",
              "      <td>0.251</td>\n",
              "      <td>0.936</td>\n",
              "      <td>0.997</td>\n",
              "      <td>0.596</td>\n",
              "      <td>0.621</td>\n",
              "    </tr>\n",
              "    <tr>\n",
              "      <th>4</th>\n",
              "      <td>0.0</td>\n",
              "      <td>0.616</td>\n",
              "      <td>0.162</td>\n",
              "      <td>0.583</td>\n",
              "      <td>0.143</td>\n",
              "      <td>0.486</td>\n",
              "      <td>0.395</td>\n",
              "      <td>0.268</td>\n",
              "      <td>0.578</td>\n",
              "      <td>0.611</td>\n",
              "      <td>0.363</td>\n",
              "      <td>0.326</td>\n",
              "      <td>0.890</td>\n",
              "      <td>0.813</td>\n",
              "      <td>0.589</td>\n",
              "      <td>0.865</td>\n",
              "      <td>0.263</td>\n",
              "      <td>0.732</td>\n",
              "      <td>0.191</td>\n",
              "      <td>0.476</td>\n",
              "      <td>0.109</td>\n",
              "      <td>0.458</td>\n",
              "      <td>0.763</td>\n",
              "      <td>0.655</td>\n",
              "      <td>0.915</td>\n",
              "      <td>0.422</td>\n",
              "    </tr>\n",
              "  </tbody>\n",
              "</table>\n",
              "</div>"
            ],
            "text/plain": [
              "     y    x_1    x_2    x_3    x_4  ...   x_21   x_22   x_23   x_24   x_25\n",
              "0  0.0  0.631  0.574  0.672  0.767  ...  0.066  0.947  0.661  0.258  0.785\n",
              "1  1.0  0.388  0.684  0.756  0.768  ...  0.698  0.262  0.439  0.172  0.310\n",
              "2  0.0  0.567  0.298  0.023  0.853  ...  0.982  0.708  0.052  0.757  0.355\n",
              "3  0.0  0.662  0.887  0.243  0.215  ...  0.251  0.936  0.997  0.596  0.621\n",
              "4  0.0  0.616  0.162  0.583  0.143  ...  0.458  0.763  0.655  0.915  0.422\n",
              "\n",
              "[5 rows x 26 columns]"
            ]
          },
          "metadata": {
            "tags": []
          },
          "execution_count": 6
        }
      ]
    },
    {
      "cell_type": "code",
      "metadata": {
        "colab": {
          "base_uri": "https://localhost:8080/"
        },
        "id": "M5cECpeaQtoX",
        "outputId": "31bcd8c1-461a-47d2-dbd2-7a500b36d72f"
      },
      "source": [
        "X_train = q1_train.iloc[:, 1:].values\n",
        "y_train = q1_train.iloc[:, 0].values\n",
        "print(X_train)\n",
        "print(y_train)"
      ],
      "execution_count": 7,
      "outputs": [
        {
          "output_type": "stream",
          "text": [
            "[[0.523 0.303 0.898 ... 0.973 0.917 0.74 ]\n",
            " [0.546 0.782 0.323 ... 0.205 0.487 0.065]\n",
            " [0.441 0.26  0.824 ... 0.949 0.871 0.72 ]\n",
            " ...\n",
            " [0.748 0.582 0.506 ... 0.234 0.071 0.096]\n",
            " [0.464 0.659 0.55  ... 0.439 0.336 0.121]\n",
            " [0.149 0.636 0.268 ... 0.985 0.77  0.438]]\n",
            "[1. 0. 0. ... 1. 0. 1.]\n"
          ],
          "name": "stdout"
        }
      ]
    },
    {
      "cell_type": "code",
      "metadata": {
        "colab": {
          "base_uri": "https://localhost:8080/"
        },
        "id": "xmigB9vDRJB-",
        "outputId": "06ef3fbe-2059-4ea6-a850-14357121a01e"
      },
      "source": [
        "X_test = q1_test.iloc[:, 1:].values\n",
        "y_test = q1_test.iloc[:, 0].values\n",
        "print(X_test)\n",
        "print(y_test)"
      ],
      "execution_count": 8,
      "outputs": [
        {
          "output_type": "stream",
          "text": [
            "[[0.631 0.574 0.672 ... 0.661 0.258 0.785]\n",
            " [0.388 0.684 0.756 ... 0.439 0.172 0.31 ]\n",
            " [0.567 0.298 0.023 ... 0.052 0.757 0.355]\n",
            " ...\n",
            " [0.601 0.355 0.412 ... 0.027 0.034 0.175]\n",
            " [0.299 0.635 0.448 ... 0.74  0.969 0.861]\n",
            " [0.441 0.804 0.728 ... 0.502 0.762 0.358]]\n",
            "[0. 1. 0. ... 0. 0. 1.]\n"
          ],
          "name": "stdout"
        }
      ]
    },
    {
      "cell_type": "markdown",
      "metadata": {
        "id": "-xiw-0jOsO2x"
      },
      "source": [
        "##Task 1"
      ]
    },
    {
      "cell_type": "code",
      "metadata": {
        "colab": {
          "base_uri": "https://localhost:8080/"
        },
        "id": "hrYHO5r_WrWk",
        "outputId": "9eea9de6-92b1-4179-fe30-aa031d421c4f"
      },
      "source": [
        "log_cols=[\"Classifier\", \"Accuracy\", \"Log Loss\"]\n",
        "log = pd.DataFrame(columns=log_cols)\n",
        "\n",
        "for clf in classifiers:\n",
        "    clf.fit(X_train, y_train)\n",
        "    name = clf.__class__.__name__\n",
        "    \n",
        "    print(\"=\"*30)\n",
        "    print(name)\n",
        "    \n",
        "    print('****Results****')\n",
        "    train_predictions = clf.predict(X_test)\n",
        "    acc = accuracy_score(y_test, train_predictions)\n",
        "    print(\"Accuracy: {:.4%}\".format(acc))\n",
        "\n",
        "    train_predictions = clf.predict_proba(X_test)\n",
        "    ll = log_loss(y_test, train_predictions)\n",
        "    print(\"Log Loss: {}\".format(ll))\n",
        "\n",
        "    log_entry = pd.DataFrame([[name, acc*100, ll]], columns=log_cols)\n",
        "    log = log.append(log_entry)\n",
        "    \n",
        "print(\"=\"*30)"
      ],
      "execution_count": 9,
      "outputs": [
        {
          "output_type": "stream",
          "text": [
            "==============================\n",
            "KNeighborsClassifier\n",
            "****Results****\n",
            "Accuracy: 69.3000%\n",
            "Log Loss: 2.585212888869401\n",
            "==============================\n",
            "SVC\n",
            "****Results****\n",
            "Accuracy: 79.4500%\n",
            "Log Loss: 0.44285074197002294\n",
            "==============================\n",
            "NuSVC\n",
            "****Results****\n",
            "Accuracy: 86.7000%\n",
            "Log Loss: 0.3327095252654602\n",
            "==============================\n",
            "DecisionTreeClassifier\n",
            "****Results****\n",
            "Accuracy: 92.9500%\n",
            "Log Loss: 2.4349837358412034\n",
            "==============================\n",
            "RandomForestClassifier\n",
            "****Results****\n",
            "Accuracy: 97.0500%\n",
            "Log Loss: 0.18093011433886855\n",
            "==============================\n",
            "AdaBoostClassifier\n",
            "****Results****\n",
            "Accuracy: 96.8500%\n",
            "Log Loss: 0.6639635690171094\n",
            "==============================\n",
            "GradientBoostingClassifier\n",
            "****Results****\n",
            "Accuracy: 97.0500%\n",
            "Log Loss: 0.13730068636156614\n",
            "==============================\n",
            "GaussianNB\n",
            "****Results****\n",
            "Accuracy: 84.4500%\n",
            "Log Loss: 0.40748243172282755\n",
            "==============================\n",
            "LinearDiscriminantAnalysis\n",
            "****Results****\n",
            "Accuracy: 75.7500%\n",
            "Log Loss: 0.4892049684150752\n",
            "==============================\n",
            "QuadraticDiscriminantAnalysis\n",
            "****Results****\n",
            "Accuracy: 83.8000%\n",
            "Log Loss: 0.3906024410297207\n",
            "==============================\n"
          ],
          "name": "stdout"
        }
      ]
    },
    {
      "cell_type": "markdown",
      "metadata": {
        "id": "ngGUOcylX7Zh"
      },
      "source": [
        "the model showsd best accuracy:-\n",
        "\n",
        "**RandomForestClassifier**\n",
        "****Results****\n",
        "Accuracy: 97.0500%"
      ]
    },
    {
      "cell_type": "code",
      "metadata": {
        "colab": {
          "base_uri": "https://localhost:8080/",
          "height": 573
        },
        "id": "mazXl9wUqImB",
        "outputId": "1ab0b326-9d9d-46af-b8c0-e36975245c9d"
      },
      "source": [
        "sns.set_color_codes(\"muted\")\n",
        "sns.barplot(x='Accuracy', y='Classifier', data=log, color=\"b\")\n",
        "\n",
        "plt.xlabel('Accuracy %')\n",
        "plt.title('Classifier Accuracy')\n",
        "plt.show()\n",
        "\n",
        "sns.set_color_codes(\"muted\")\n",
        "sns.barplot(x='Log Loss', y='Classifier', data=log, color=\"g\")\n",
        "\n",
        "plt.xlabel('Log Loss')\n",
        "plt.title('Classifier Log Loss')\n",
        "plt.show()"
      ],
      "execution_count": 10,
      "outputs": [
        {
          "output_type": "display_data",
          "data": {
            "image/png": "[encoded data removed]",
            "text/plain": [
              "<Figure size 432x288 with 1 Axes>"
            ]
          },
          "metadata": {
            "tags": [],
            "needs_background": "light"
          }
        },
        {
          "output_type": "display_data",
          "data": {
            "image/png": "[encoded data removed]",
            "text/plain": [
              "<Figure size 432x288 with 1 Axes>"
            ]
          },
          "metadata": {
            "tags": [],
            "needs_background": "light"
          }
        }
      ]
    },
    {
      "cell_type": "markdown",
      "metadata": {
        "id": "kW3c7UYih0hT"
      },
      "source": [
        "## Feature Scaling"
      ]
    },
    {
      "cell_type": "code",
      "metadata": {
        "id": "9fQlDPKCh8sc"
      },
      "source": [
        "sc = StandardScaler()\n",
        "X_train = sc.fit_transform(X_train)\n",
        "X_test = sc.transform(X_test)"
      ],
      "execution_count": 11,
      "outputs": []
    },
    {
      "cell_type": "code",
      "metadata": {
        "id": "syrnD1Op2BSR",
        "colab": {
          "base_uri": "https://localhost:8080/"
        },
        "outputId": "39bb6037-ef1d-47cc-8c3d-8c8a859523bf"
      },
      "source": [
        "print(X_train)"
      ],
      "execution_count": 12,
      "outputs": [
        {
          "output_type": "stream",
          "text": [
            "[[ 0.07251069 -0.67514224  1.388941   ...  1.6525382   1.43977989\n",
            "   0.82327842]\n",
            " [ 0.15223123  0.97609822 -0.60355068 ... -1.00880893 -0.04136103\n",
            "  -1.48762041]\n",
            " [-0.21171039 -0.82337468  1.13251598 ...  1.56937111  1.28133226\n",
            "   0.75480734]\n",
            " ...\n",
            " [ 0.85238559  0.286645    0.03058146 ... -0.90831535 -1.47427876\n",
            "  -1.38149024]\n",
            " [-0.13198984  0.55208449  0.18305038 ... -0.19792972 -0.56148261\n",
            "  -1.29590139]\n",
            " [-1.2238147   0.47279737 -0.79413684 ...  1.69412175  0.93343637\n",
            "  -0.21063483]]\n"
          ],
          "name": "stdout"
        }
      ]
    },
    {
      "cell_type": "code",
      "metadata": {
        "id": "JUd6iBRp2C3L",
        "colab": {
          "base_uri": "https://localhost:8080/"
        },
        "outputId": "74fad37f-b1fa-4fbb-c2de-827cd91bd819"
      },
      "source": [
        "print(X_test)"
      ],
      "execution_count": 13,
      "outputs": [
        {
          "output_type": "stream",
          "text": [
            "[[ 0.44685064  0.25906687  0.60580514 ...  0.57136593 -0.83015469\n",
            "   0.97733834]\n",
            " [-0.39541425  0.63826615  0.89688218 ... -0.19792972 -1.12638287\n",
            "  -0.64884972]\n",
            " [ 0.22501956 -0.69237857 -1.64311155 ... -1.53899917  0.88865769\n",
            "  -0.4947898 ]\n",
            " ...\n",
            " [ 0.34286732 -0.4958844  -0.29514762 ... -1.62563157 -1.60172577\n",
            "  -1.11102949]\n",
            " [-0.7038981   0.46935011 -0.17040031 ...  0.8451243   1.61889461\n",
            "   1.23752843]\n",
            " [-0.21171039  1.05193808  0.7998565  ...  0.02038391  0.90588026\n",
            "  -0.48451914]]\n"
          ],
          "name": "stdout"
        }
      ]
    },
    {
      "cell_type": "markdown",
      "metadata": {
        "id": "3WY1nTNVCQro"
      },
      "source": [
        "## Training the Decision Tree Classification model on the Training set"
      ]
    },
    {
      "cell_type": "code",
      "metadata": {
        "colab": {
          "base_uri": "https://localhost:8080/"
        },
        "id": "JXBxiBAvCQrp",
        "outputId": "5663c25a-3930-4733-e4ec-9e63b27e5055"
      },
      "source": [
        "from sklearn.tree import DecisionTreeClassifier\n",
        "classifier = DecisionTreeClassifier(criterion = 'entropy', random_state = 0)\n",
        "classifier.fit(X_train, y_train)"
      ],
      "execution_count": 14,
      "outputs": [
        {
          "output_type": "execute_result",
          "data": {
            "text/plain": [
              "DecisionTreeClassifier(ccp_alpha=0.0, class_weight=None, criterion='entropy',\n",
              "                       max_depth=None, max_features=None, max_leaf_nodes=None,\n",
              "                       min_impurity_decrease=0.0, min_impurity_split=None,\n",
              "                       min_samples_leaf=1, min_samples_split=2,\n",
              "                       min_weight_fraction_leaf=0.0, presort='deprecated',\n",
              "                       random_state=0, splitter='best')"
            ]
          },
          "metadata": {
            "tags": []
          },
          "execution_count": 14
        }
      ]
    },
    {
      "cell_type": "markdown",
      "metadata": {
        "id": "16N2xvbGCYp6"
      },
      "source": [
        "**Predicting a new result**"
      ]
    },
    {
      "cell_type": "code",
      "metadata": {
        "colab": {
          "base_uri": "https://localhost:8080/"
        },
        "id": "34P8Vnz8CYp7",
        "outputId": "e04cef47-3c9a-4166-cfde-a82fed6136f4"
      },
      "source": [
        "print(classifier.predict(sc.transform([[0.631,0.574,0.672,0.767,0.734,0.614,0.689,0.621,0.953,0.499,0.411,0.153,0.735,0.172,0.171,0.512,0.622,0.027,0.403,0.942,0.066,0.947,0.661,0.258,0.785]])))"
      ],
      "execution_count": 15,
      "outputs": [
        {
          "output_type": "stream",
          "text": [
            "[0.]\n"
          ],
          "name": "stdout"
        }
      ]
    },
    {
      "cell_type": "markdown",
      "metadata": {
        "id": "4M3ySu-pCjGL"
      },
      "source": [
        "**Predicting the Test set results**"
      ]
    },
    {
      "cell_type": "code",
      "metadata": {
        "colab": {
          "base_uri": "https://localhost:8080/"
        },
        "id": "mc21zr9uCjGL",
        "outputId": "bef92775-37e0-40e7-8b23-3ec422fab993"
      },
      "source": [
        "y_pred = classifier.predict(X_test)\n",
        "print(np.concatenate((y_pred.reshape(len(y_pred),1), y_test.reshape(len(y_test),1)),1))"
      ],
      "execution_count": 16,
      "outputs": [
        {
          "output_type": "stream",
          "text": [
            "[[0. 0.]\n",
            " [1. 1.]\n",
            " [0. 0.]\n",
            " ...\n",
            " [1. 0.]\n",
            " [0. 0.]\n",
            " [1. 1.]]\n"
          ],
          "name": "stdout"
        }
      ]
    },
    {
      "cell_type": "markdown",
      "metadata": {
        "id": "bQL3zu-WCrlp"
      },
      "source": [
        "**Making the Confusion Matrix**"
      ]
    },
    {
      "cell_type": "code",
      "metadata": {
        "colab": {
          "base_uri": "https://localhost:8080/"
        },
        "id": "6hLGcp_3Crlp",
        "outputId": "404bb7cf-67e9-4938-c986-a2474e664a3a"
      },
      "source": [
        "cm = confusion_matrix(y_test, y_pred)\n",
        "print(cm)\n",
        "accuracy_score(y_test, y_pred)"
      ],
      "execution_count": 17,
      "outputs": [
        {
          "output_type": "stream",
          "text": [
            "[[989  59]\n",
            " [ 67 885]]\n"
          ],
          "name": "stdout"
        },
        {
          "output_type": "execute_result",
          "data": {
            "text/plain": [
              "0.937"
            ]
          },
          "metadata": {
            "tags": []
          },
          "execution_count": 17
        }
      ]
    },
    {
      "cell_type": "markdown",
      "metadata": {
        "id": "A4UpMv_FsIzQ"
      },
      "source": [
        "##task 2"
      ]
    },
    {
      "cell_type": "code",
      "metadata": {
        "colab": {
          "base_uri": "https://localhost:8080/"
        },
        "id": "ka94uByOpG7_",
        "outputId": "ddd53a0f-81ae-45bc-b702-9d4ade5ec6cc"
      },
      "source": [
        "# make class predictions\n",
        "y_pred = classifier.predict(X_test)\n",
        "accuracy=accuracy_score(y_test, y_pred)\n",
        "print(f'ACCURACY:{accuracy}')\n",
        "print('\\n')\n",
        "# generate classification report\n",
        "from sklearn import metrics\n",
        "print(metrics.classification_report(y_test, y_pred))"
      ],
      "execution_count": 18,
      "outputs": [
        {
          "output_type": "stream",
          "text": [
            "ACCURACY:0.937\n",
            "\n",
            "\n",
            "              precision    recall  f1-score   support\n",
            "\n",
            "         0.0       0.94      0.94      0.94      1048\n",
            "         1.0       0.94      0.93      0.93       952\n",
            "\n",
            "    accuracy                           0.94      2000\n",
            "   macro avg       0.94      0.94      0.94      2000\n",
            "weighted avg       0.94      0.94      0.94      2000\n",
            "\n"
          ],
          "name": "stdout"
        }
      ]
    },
    {
      "cell_type": "code",
      "metadata": {
        "colab": {
          "base_uri": "https://localhost:8080/",
          "height": 224
        },
        "id": "l33RXtovSVvm",
        "outputId": "a73cb86b-7953-40c4-c559-cb0acfb810ba"
      },
      "source": [
        "q1_test['predicted_y']= y_pred\n",
        "q1_test.head()"
      ],
      "execution_count": 19,
      "outputs": [
        {
          "output_type": "execute_result",
          "data": {
            "text/html": [
              "<div>\n",
              "<style scoped>\n",
              "    .dataframe tbody tr th:only-of-type {\n",
              "        vertical-align: middle;\n",
              "    }\n",
              "\n",
              "    .dataframe tbody tr th {\n",
              "        vertical-align: top;\n",
              "    }\n",
              "\n",
              "    .dataframe thead th {\n",
              "        text-align: right;\n",
              "    }\n",
              "</style>\n",
              "<table border=\"1\" class=\"dataframe\">\n",
              "  <thead>\n",
              "    <tr style=\"text-align: right;\">\n",
              "      <th></th>\n",
              "      <th>y</th>\n",
              "      <th>x_1</th>\n",
              "      <th>x_2</th>\n",
              "      <th>x_3</th>\n",
              "      <th>x_4</th>\n",
              "      <th>x_5</th>\n",
              "      <th>x_6</th>\n",
              "      <th>x_7</th>\n",
              "      <th>x_8</th>\n",
              "      <th>x_9</th>\n",
              "      <th>x_10</th>\n",
              "      <th>x_11</th>\n",
              "      <th>x_12</th>\n",
              "      <th>x_13</th>\n",
              "      <th>x_14</th>\n",
              "      <th>x_15</th>\n",
              "      <th>x_16</th>\n",
              "      <th>x_17</th>\n",
              "      <th>x_18</th>\n",
              "      <th>x_19</th>\n",
              "      <th>x_20</th>\n",
              "      <th>x_21</th>\n",
              "      <th>x_22</th>\n",
              "      <th>x_23</th>\n",
              "      <th>x_24</th>\n",
              "      <th>x_25</th>\n",
              "      <th>predicted_y</th>\n",
              "    </tr>\n",
              "  </thead>\n",
              "  <tbody>\n",
              "    <tr>\n",
              "      <th>0</th>\n",
              "      <td>0.0</td>\n",
              "      <td>0.631</td>\n",
              "      <td>0.574</td>\n",
              "      <td>0.672</td>\n",
              "      <td>0.767</td>\n",
              "      <td>0.734</td>\n",
              "      <td>0.614</td>\n",
              "      <td>0.689</td>\n",
              "      <td>0.621</td>\n",
              "      <td>0.953</td>\n",
              "      <td>0.499</td>\n",
              "      <td>0.411</td>\n",
              "      <td>0.153</td>\n",
              "      <td>0.735</td>\n",
              "      <td>0.172</td>\n",
              "      <td>0.171</td>\n",
              "      <td>0.512</td>\n",
              "      <td>0.622</td>\n",
              "      <td>0.027</td>\n",
              "      <td>0.403</td>\n",
              "      <td>0.942</td>\n",
              "      <td>0.066</td>\n",
              "      <td>0.947</td>\n",
              "      <td>0.661</td>\n",
              "      <td>0.258</td>\n",
              "      <td>0.785</td>\n",
              "      <td>0.0</td>\n",
              "    </tr>\n",
              "    <tr>\n",
              "      <th>1</th>\n",
              "      <td>1.0</td>\n",
              "      <td>0.388</td>\n",
              "      <td>0.684</td>\n",
              "      <td>0.756</td>\n",
              "      <td>0.768</td>\n",
              "      <td>0.684</td>\n",
              "      <td>0.302</td>\n",
              "      <td>0.694</td>\n",
              "      <td>0.981</td>\n",
              "      <td>0.189</td>\n",
              "      <td>0.244</td>\n",
              "      <td>0.890</td>\n",
              "      <td>0.054</td>\n",
              "      <td>0.211</td>\n",
              "      <td>0.751</td>\n",
              "      <td>0.013</td>\n",
              "      <td>0.603</td>\n",
              "      <td>0.846</td>\n",
              "      <td>0.301</td>\n",
              "      <td>0.007</td>\n",
              "      <td>0.567</td>\n",
              "      <td>0.698</td>\n",
              "      <td>0.262</td>\n",
              "      <td>0.439</td>\n",
              "      <td>0.172</td>\n",
              "      <td>0.310</td>\n",
              "      <td>1.0</td>\n",
              "    </tr>\n",
              "    <tr>\n",
              "      <th>2</th>\n",
              "      <td>0.0</td>\n",
              "      <td>0.567</td>\n",
              "      <td>0.298</td>\n",
              "      <td>0.023</td>\n",
              "      <td>0.853</td>\n",
              "      <td>0.669</td>\n",
              "      <td>0.792</td>\n",
              "      <td>0.381</td>\n",
              "      <td>0.347</td>\n",
              "      <td>0.304</td>\n",
              "      <td>0.350</td>\n",
              "      <td>0.339</td>\n",
              "      <td>0.578</td>\n",
              "      <td>0.187</td>\n",
              "      <td>0.533</td>\n",
              "      <td>0.286</td>\n",
              "      <td>0.980</td>\n",
              "      <td>0.940</td>\n",
              "      <td>0.817</td>\n",
              "      <td>0.329</td>\n",
              "      <td>0.539</td>\n",
              "      <td>0.982</td>\n",
              "      <td>0.708</td>\n",
              "      <td>0.052</td>\n",
              "      <td>0.757</td>\n",
              "      <td>0.355</td>\n",
              "      <td>0.0</td>\n",
              "    </tr>\n",
              "    <tr>\n",
              "      <th>3</th>\n",
              "      <td>0.0</td>\n",
              "      <td>0.662</td>\n",
              "      <td>0.887</td>\n",
              "      <td>0.243</td>\n",
              "      <td>0.215</td>\n",
              "      <td>0.954</td>\n",
              "      <td>0.977</td>\n",
              "      <td>0.312</td>\n",
              "      <td>0.630</td>\n",
              "      <td>0.224</td>\n",
              "      <td>0.563</td>\n",
              "      <td>0.245</td>\n",
              "      <td>0.580</td>\n",
              "      <td>0.680</td>\n",
              "      <td>0.137</td>\n",
              "      <td>0.436</td>\n",
              "      <td>0.552</td>\n",
              "      <td>0.402</td>\n",
              "      <td>0.328</td>\n",
              "      <td>0.812</td>\n",
              "      <td>0.812</td>\n",
              "      <td>0.251</td>\n",
              "      <td>0.936</td>\n",
              "      <td>0.997</td>\n",
              "      <td>0.596</td>\n",
              "      <td>0.621</td>\n",
              "      <td>0.0</td>\n",
              "    </tr>\n",
              "    <tr>\n",
              "      <th>4</th>\n",
              "      <td>0.0</td>\n",
              "      <td>0.616</td>\n",
              "      <td>0.162</td>\n",
              "      <td>0.583</td>\n",
              "      <td>0.143</td>\n",
              "      <td>0.486</td>\n",
              "      <td>0.395</td>\n",
              "      <td>0.268</td>\n",
              "      <td>0.578</td>\n",
              "      <td>0.611</td>\n",
              "      <td>0.363</td>\n",
              "      <td>0.326</td>\n",
              "      <td>0.890</td>\n",
              "      <td>0.813</td>\n",
              "      <td>0.589</td>\n",
              "      <td>0.865</td>\n",
              "      <td>0.263</td>\n",
              "      <td>0.732</td>\n",
              "      <td>0.191</td>\n",
              "      <td>0.476</td>\n",
              "      <td>0.109</td>\n",
              "      <td>0.458</td>\n",
              "      <td>0.763</td>\n",
              "      <td>0.655</td>\n",
              "      <td>0.915</td>\n",
              "      <td>0.422</td>\n",
              "      <td>0.0</td>\n",
              "    </tr>\n",
              "  </tbody>\n",
              "</table>\n",
              "</div>"
            ],
            "text/plain": [
              "     y    x_1    x_2    x_3    x_4  ...   x_22   x_23   x_24   x_25  predicted_y\n",
              "0  0.0  0.631  0.574  0.672  0.767  ...  0.947  0.661  0.258  0.785          0.0\n",
              "1  1.0  0.388  0.684  0.756  0.768  ...  0.262  0.439  0.172  0.310          1.0\n",
              "2  0.0  0.567  0.298  0.023  0.853  ...  0.708  0.052  0.757  0.355          0.0\n",
              "3  0.0  0.662  0.887  0.243  0.215  ...  0.936  0.997  0.596  0.621          0.0\n",
              "4  0.0  0.616  0.162  0.583  0.143  ...  0.763  0.655  0.915  0.422          0.0\n",
              "\n",
              "[5 rows x 27 columns]"
            ]
          },
          "metadata": {
            "tags": []
          },
          "execution_count": 19
        }
      ]
    },
    {
      "cell_type": "code",
      "metadata": {
        "colab": {
          "base_uri": "https://localhost:8080/",
          "height": 418
        },
        "id": "cxuyqmXYUKNa",
        "outputId": "3533db2a-77c2-4b2a-fd76-9617e3fb8968"
      },
      "source": [
        "submission_dec = q1_test[['y', 'predicted_y']]\n",
        "submission_dec"
      ],
      "execution_count": 20,
      "outputs": [
        {
          "output_type": "execute_result",
          "data": {
            "text/html": [
              "<div>\n",
              "<style scoped>\n",
              "    .dataframe tbody tr th:only-of-type {\n",
              "        vertical-align: middle;\n",
              "    }\n",
              "\n",
              "    .dataframe tbody tr th {\n",
              "        vertical-align: top;\n",
              "    }\n",
              "\n",
              "    .dataframe thead th {\n",
              "        text-align: right;\n",
              "    }\n",
              "</style>\n",
              "<table border=\"1\" class=\"dataframe\">\n",
              "  <thead>\n",
              "    <tr style=\"text-align: right;\">\n",
              "      <th></th>\n",
              "      <th>y</th>\n",
              "      <th>predicted_y</th>\n",
              "    </tr>\n",
              "  </thead>\n",
              "  <tbody>\n",
              "    <tr>\n",
              "      <th>0</th>\n",
              "      <td>0.0</td>\n",
              "      <td>0.0</td>\n",
              "    </tr>\n",
              "    <tr>\n",
              "      <th>1</th>\n",
              "      <td>1.0</td>\n",
              "      <td>1.0</td>\n",
              "    </tr>\n",
              "    <tr>\n",
              "      <th>2</th>\n",
              "      <td>0.0</td>\n",
              "      <td>0.0</td>\n",
              "    </tr>\n",
              "    <tr>\n",
              "      <th>3</th>\n",
              "      <td>0.0</td>\n",
              "      <td>0.0</td>\n",
              "    </tr>\n",
              "    <tr>\n",
              "      <th>4</th>\n",
              "      <td>0.0</td>\n",
              "      <td>0.0</td>\n",
              "    </tr>\n",
              "    <tr>\n",
              "      <th>...</th>\n",
              "      <td>...</td>\n",
              "      <td>...</td>\n",
              "    </tr>\n",
              "    <tr>\n",
              "      <th>1995</th>\n",
              "      <td>0.0</td>\n",
              "      <td>0.0</td>\n",
              "    </tr>\n",
              "    <tr>\n",
              "      <th>1996</th>\n",
              "      <td>1.0</td>\n",
              "      <td>1.0</td>\n",
              "    </tr>\n",
              "    <tr>\n",
              "      <th>1997</th>\n",
              "      <td>0.0</td>\n",
              "      <td>1.0</td>\n",
              "    </tr>\n",
              "    <tr>\n",
              "      <th>1998</th>\n",
              "      <td>0.0</td>\n",
              "      <td>0.0</td>\n",
              "    </tr>\n",
              "    <tr>\n",
              "      <th>1999</th>\n",
              "      <td>1.0</td>\n",
              "      <td>1.0</td>\n",
              "    </tr>\n",
              "  </tbody>\n",
              "</table>\n",
              "<p>2000 rows × 2 columns</p>\n",
              "</div>"
            ],
            "text/plain": [
              "        y  predicted_y\n",
              "0     0.0          0.0\n",
              "1     1.0          1.0\n",
              "2     0.0          0.0\n",
              "3     0.0          0.0\n",
              "4     0.0          0.0\n",
              "...   ...          ...\n",
              "1995  0.0          0.0\n",
              "1996  1.0          1.0\n",
              "1997  0.0          1.0\n",
              "1998  0.0          0.0\n",
              "1999  1.0          1.0\n",
              "\n",
              "[2000 rows x 2 columns]"
            ]
          },
          "metadata": {
            "tags": []
          },
          "execution_count": 20
        }
      ]
    },
    {
      "cell_type": "code",
      "metadata": {
        "colab": {
          "base_uri": "https://localhost:8080/"
        },
        "id": "GAyA2YBA4vk7",
        "outputId": "a5ef8ad0-00ba-437e-8635-12e2c9696c8a"
      },
      "source": [
        "q1_new_pred=y_pred[:30]\n",
        "q1_new_pred"
      ],
      "execution_count": 21,
      "outputs": [
        {
          "output_type": "execute_result",
          "data": {
            "text/plain": [
              "array([0., 1., 0., 0., 0., 0., 1., 1., 0., 1., 1., 0., 1., 0., 0., 0., 0.,\n",
              "       0., 0., 1., 1., 0., 1., 0., 1., 0., 1., 0., 0., 0.])"
            ]
          },
          "metadata": {
            "tags": []
          },
          "execution_count": 21
        }
      ]
    },
    {
      "cell_type": "code",
      "metadata": {
        "id": "XU2ZElKk5Q0n"
      },
      "source": [
        "q1_new_data = q1_new[:30]"
      ],
      "execution_count": 22,
      "outputs": []
    },
    {
      "cell_type": "code",
      "metadata": {
        "colab": {
          "base_uri": "https://localhost:8080/"
        },
        "id": "6DRU65uy19rv",
        "outputId": "fde6acf2-8a45-4cdf-e51a-e17380b8de6f"
      },
      "source": [
        "q1_new_data['predicted_y']= q1_new_pred"
      ],
      "execution_count": 23,
      "outputs": [
        {
          "output_type": "stream",
          "text": [
            "/usr/local/lib/python3.7/dist-packages/ipykernel_launcher.py:1: SettingWithCopyWarning: \n",
            "A value is trying to be set on a copy of a slice from a DataFrame.\n",
            "Try using .loc[row_indexer,col_indexer] = value instead\n",
            "\n",
            "See the caveats in the documentation: https://pandas.pydata.org/pandas-docs/stable/user_guide/indexing.html#returning-a-view-versus-a-copy\n",
            "  \"\"\"Entry point for launching an IPython kernel.\n"
          ],
          "name": "stderr"
        }
      ]
    },
    {
      "cell_type": "code",
      "metadata": {
        "colab": {
          "base_uri": "https://localhost:8080/",
          "height": 224
        },
        "id": "AyH0547B3pgR",
        "outputId": "073b9fb2-14dc-4885-bd34-c71fe969f735"
      },
      "source": [
        "q1_new_data.head()"
      ],
      "execution_count": 24,
      "outputs": [
        {
          "output_type": "execute_result",
          "data": {
            "text/html": [
              "<div>\n",
              "<style scoped>\n",
              "    .dataframe tbody tr th:only-of-type {\n",
              "        vertical-align: middle;\n",
              "    }\n",
              "\n",
              "    .dataframe tbody tr th {\n",
              "        vertical-align: top;\n",
              "    }\n",
              "\n",
              "    .dataframe thead th {\n",
              "        text-align: right;\n",
              "    }\n",
              "</style>\n",
              "<table border=\"1\" class=\"dataframe\">\n",
              "  <thead>\n",
              "    <tr style=\"text-align: right;\">\n",
              "      <th></th>\n",
              "      <th>ID</th>\n",
              "      <th>x_1</th>\n",
              "      <th>x_2</th>\n",
              "      <th>x_3</th>\n",
              "      <th>x_4</th>\n",
              "      <th>x_5</th>\n",
              "      <th>x_6</th>\n",
              "      <th>x_7</th>\n",
              "      <th>x_8</th>\n",
              "      <th>x_9</th>\n",
              "      <th>x_10</th>\n",
              "      <th>x_11</th>\n",
              "      <th>x_12</th>\n",
              "      <th>x_13</th>\n",
              "      <th>x_14</th>\n",
              "      <th>x_15</th>\n",
              "      <th>x_16</th>\n",
              "      <th>x_17</th>\n",
              "      <th>x_18</th>\n",
              "      <th>x_19</th>\n",
              "      <th>x_20</th>\n",
              "      <th>x_21</th>\n",
              "      <th>x_22</th>\n",
              "      <th>x_23</th>\n",
              "      <th>x_24</th>\n",
              "      <th>x_25</th>\n",
              "      <th>predicted_y</th>\n",
              "    </tr>\n",
              "  </thead>\n",
              "  <tbody>\n",
              "    <tr>\n",
              "      <th>0</th>\n",
              "      <td>ID_001</td>\n",
              "      <td>0.673</td>\n",
              "      <td>0.822</td>\n",
              "      <td>0.020</td>\n",
              "      <td>0.554</td>\n",
              "      <td>0.422</td>\n",
              "      <td>0.759</td>\n",
              "      <td>0.468</td>\n",
              "      <td>0.073</td>\n",
              "      <td>0.302</td>\n",
              "      <td>0.354</td>\n",
              "      <td>0.218</td>\n",
              "      <td>0.484</td>\n",
              "      <td>0.482</td>\n",
              "      <td>0.142</td>\n",
              "      <td>0.859</td>\n",
              "      <td>0.571</td>\n",
              "      <td>0.877</td>\n",
              "      <td>0.274</td>\n",
              "      <td>0.965</td>\n",
              "      <td>0.835</td>\n",
              "      <td>0.902</td>\n",
              "      <td>0.911</td>\n",
              "      <td>0.075</td>\n",
              "      <td>0.005</td>\n",
              "      <td>0.735</td>\n",
              "      <td>0.0</td>\n",
              "    </tr>\n",
              "    <tr>\n",
              "      <th>1</th>\n",
              "      <td>ID_002</td>\n",
              "      <td>0.911</td>\n",
              "      <td>0.460</td>\n",
              "      <td>0.566</td>\n",
              "      <td>0.883</td>\n",
              "      <td>0.145</td>\n",
              "      <td>0.857</td>\n",
              "      <td>0.734</td>\n",
              "      <td>0.391</td>\n",
              "      <td>0.853</td>\n",
              "      <td>0.253</td>\n",
              "      <td>0.920</td>\n",
              "      <td>0.177</td>\n",
              "      <td>0.622</td>\n",
              "      <td>0.902</td>\n",
              "      <td>0.322</td>\n",
              "      <td>0.941</td>\n",
              "      <td>0.040</td>\n",
              "      <td>0.947</td>\n",
              "      <td>0.916</td>\n",
              "      <td>0.857</td>\n",
              "      <td>0.893</td>\n",
              "      <td>0.578</td>\n",
              "      <td>0.371</td>\n",
              "      <td>0.205</td>\n",
              "      <td>0.799</td>\n",
              "      <td>1.0</td>\n",
              "    </tr>\n",
              "    <tr>\n",
              "      <th>2</th>\n",
              "      <td>ID_003</td>\n",
              "      <td>0.585</td>\n",
              "      <td>0.922</td>\n",
              "      <td>0.298</td>\n",
              "      <td>0.114</td>\n",
              "      <td>0.037</td>\n",
              "      <td>0.792</td>\n",
              "      <td>0.138</td>\n",
              "      <td>0.131</td>\n",
              "      <td>0.491</td>\n",
              "      <td>0.250</td>\n",
              "      <td>0.830</td>\n",
              "      <td>0.898</td>\n",
              "      <td>0.495</td>\n",
              "      <td>0.713</td>\n",
              "      <td>0.098</td>\n",
              "      <td>0.945</td>\n",
              "      <td>0.696</td>\n",
              "      <td>0.521</td>\n",
              "      <td>0.543</td>\n",
              "      <td>0.401</td>\n",
              "      <td>0.383</td>\n",
              "      <td>0.723</td>\n",
              "      <td>0.742</td>\n",
              "      <td>0.828</td>\n",
              "      <td>0.586</td>\n",
              "      <td>0.0</td>\n",
              "    </tr>\n",
              "    <tr>\n",
              "      <th>3</th>\n",
              "      <td>ID_004</td>\n",
              "      <td>0.900</td>\n",
              "      <td>0.366</td>\n",
              "      <td>0.082</td>\n",
              "      <td>0.498</td>\n",
              "      <td>0.585</td>\n",
              "      <td>0.494</td>\n",
              "      <td>0.491</td>\n",
              "      <td>0.730</td>\n",
              "      <td>0.396</td>\n",
              "      <td>0.664</td>\n",
              "      <td>0.647</td>\n",
              "      <td>0.512</td>\n",
              "      <td>0.035</td>\n",
              "      <td>0.597</td>\n",
              "      <td>0.475</td>\n",
              "      <td>0.917</td>\n",
              "      <td>0.041</td>\n",
              "      <td>0.820</td>\n",
              "      <td>0.811</td>\n",
              "      <td>0.624</td>\n",
              "      <td>0.936</td>\n",
              "      <td>0.906</td>\n",
              "      <td>0.951</td>\n",
              "      <td>0.199</td>\n",
              "      <td>0.723</td>\n",
              "      <td>0.0</td>\n",
              "    </tr>\n",
              "    <tr>\n",
              "      <th>4</th>\n",
              "      <td>ID_005</td>\n",
              "      <td>0.850</td>\n",
              "      <td>0.067</td>\n",
              "      <td>0.861</td>\n",
              "      <td>0.420</td>\n",
              "      <td>0.448</td>\n",
              "      <td>0.259</td>\n",
              "      <td>0.948</td>\n",
              "      <td>0.066</td>\n",
              "      <td>0.249</td>\n",
              "      <td>0.059</td>\n",
              "      <td>0.224</td>\n",
              "      <td>0.875</td>\n",
              "      <td>0.921</td>\n",
              "      <td>0.046</td>\n",
              "      <td>0.402</td>\n",
              "      <td>0.684</td>\n",
              "      <td>0.180</td>\n",
              "      <td>0.305</td>\n",
              "      <td>0.764</td>\n",
              "      <td>0.248</td>\n",
              "      <td>0.452</td>\n",
              "      <td>0.479</td>\n",
              "      <td>0.445</td>\n",
              "      <td>0.802</td>\n",
              "      <td>0.627</td>\n",
              "      <td>0.0</td>\n",
              "    </tr>\n",
              "  </tbody>\n",
              "</table>\n",
              "</div>"
            ],
            "text/plain": [
              "       ID    x_1    x_2    x_3    x_4  ...   x_22   x_23   x_24   x_25  predicted_y\n",
              "0  ID_001  0.673  0.822  0.020  0.554  ...  0.911  0.075  0.005  0.735          0.0\n",
              "1  ID_002  0.911  0.460  0.566  0.883  ...  0.578  0.371  0.205  0.799          1.0\n",
              "2  ID_003  0.585  0.922  0.298  0.114  ...  0.723  0.742  0.828  0.586          0.0\n",
              "3  ID_004  0.900  0.366  0.082  0.498  ...  0.906  0.951  0.199  0.723          0.0\n",
              "4  ID_005  0.850  0.067  0.861  0.420  ...  0.479  0.445  0.802  0.627          0.0\n",
              "\n",
              "[5 rows x 27 columns]"
            ]
          },
          "metadata": {
            "tags": []
          },
          "execution_count": 24
        }
      ]
    },
    {
      "cell_type": "markdown",
      "metadata": {
        "id": "eQ09874Hr-mT"
      },
      "source": [
        "##task3"
      ]
    },
    {
      "cell_type": "code",
      "metadata": {
        "colab": {
          "base_uri": "https://localhost:8080/",
          "height": 976
        },
        "id": "FRA3IUbv_AQZ",
        "outputId": "e7a6ea66-134d-43d4-d423-40f53687be6b"
      },
      "source": [
        "submission= q1_new_data[['ID', 'predicted_y']]\n",
        "submission"
      ],
      "execution_count": 25,
      "outputs": [
        {
          "output_type": "execute_result",
          "data": {
            "text/html": [
              "<div>\n",
              "<style scoped>\n",
              "    .dataframe tbody tr th:only-of-type {\n",
              "        vertical-align: middle;\n",
              "    }\n",
              "\n",
              "    .dataframe tbody tr th {\n",
              "        vertical-align: top;\n",
              "    }\n",
              "\n",
              "    .dataframe thead th {\n",
              "        text-align: right;\n",
              "    }\n",
              "</style>\n",
              "<table border=\"1\" class=\"dataframe\">\n",
              "  <thead>\n",
              "    <tr style=\"text-align: right;\">\n",
              "      <th></th>\n",
              "      <th>ID</th>\n",
              "      <th>predicted_y</th>\n",
              "    </tr>\n",
              "  </thead>\n",
              "  <tbody>\n",
              "    <tr>\n",
              "      <th>0</th>\n",
              "      <td>ID_001</td>\n",
              "      <td>0.0</td>\n",
              "    </tr>\n",
              "    <tr>\n",
              "      <th>1</th>\n",
              "      <td>ID_002</td>\n",
              "      <td>1.0</td>\n",
              "    </tr>\n",
              "    <tr>\n",
              "      <th>2</th>\n",
              "      <td>ID_003</td>\n",
              "      <td>0.0</td>\n",
              "    </tr>\n",
              "    <tr>\n",
              "      <th>3</th>\n",
              "      <td>ID_004</td>\n",
              "      <td>0.0</td>\n",
              "    </tr>\n",
              "    <tr>\n",
              "      <th>4</th>\n",
              "      <td>ID_005</td>\n",
              "      <td>0.0</td>\n",
              "    </tr>\n",
              "    <tr>\n",
              "      <th>5</th>\n",
              "      <td>ID_006</td>\n",
              "      <td>0.0</td>\n",
              "    </tr>\n",
              "    <tr>\n",
              "      <th>6</th>\n",
              "      <td>ID_007</td>\n",
              "      <td>1.0</td>\n",
              "    </tr>\n",
              "    <tr>\n",
              "      <th>7</th>\n",
              "      <td>ID_008</td>\n",
              "      <td>1.0</td>\n",
              "    </tr>\n",
              "    <tr>\n",
              "      <th>8</th>\n",
              "      <td>ID_009</td>\n",
              "      <td>0.0</td>\n",
              "    </tr>\n",
              "    <tr>\n",
              "      <th>9</th>\n",
              "      <td>ID_010</td>\n",
              "      <td>1.0</td>\n",
              "    </tr>\n",
              "    <tr>\n",
              "      <th>10</th>\n",
              "      <td>ID_011</td>\n",
              "      <td>1.0</td>\n",
              "    </tr>\n",
              "    <tr>\n",
              "      <th>11</th>\n",
              "      <td>ID_012</td>\n",
              "      <td>0.0</td>\n",
              "    </tr>\n",
              "    <tr>\n",
              "      <th>12</th>\n",
              "      <td>ID_013</td>\n",
              "      <td>1.0</td>\n",
              "    </tr>\n",
              "    <tr>\n",
              "      <th>13</th>\n",
              "      <td>ID_014</td>\n",
              "      <td>0.0</td>\n",
              "    </tr>\n",
              "    <tr>\n",
              "      <th>14</th>\n",
              "      <td>ID_015</td>\n",
              "      <td>0.0</td>\n",
              "    </tr>\n",
              "    <tr>\n",
              "      <th>15</th>\n",
              "      <td>ID_016</td>\n",
              "      <td>0.0</td>\n",
              "    </tr>\n",
              "    <tr>\n",
              "      <th>16</th>\n",
              "      <td>ID_017</td>\n",
              "      <td>0.0</td>\n",
              "    </tr>\n",
              "    <tr>\n",
              "      <th>17</th>\n",
              "      <td>ID_018</td>\n",
              "      <td>0.0</td>\n",
              "    </tr>\n",
              "    <tr>\n",
              "      <th>18</th>\n",
              "      <td>ID_019</td>\n",
              "      <td>0.0</td>\n",
              "    </tr>\n",
              "    <tr>\n",
              "      <th>19</th>\n",
              "      <td>ID_020</td>\n",
              "      <td>1.0</td>\n",
              "    </tr>\n",
              "    <tr>\n",
              "      <th>20</th>\n",
              "      <td>ID_021</td>\n",
              "      <td>1.0</td>\n",
              "    </tr>\n",
              "    <tr>\n",
              "      <th>21</th>\n",
              "      <td>ID_022</td>\n",
              "      <td>0.0</td>\n",
              "    </tr>\n",
              "    <tr>\n",
              "      <th>22</th>\n",
              "      <td>ID_023</td>\n",
              "      <td>1.0</td>\n",
              "    </tr>\n",
              "    <tr>\n",
              "      <th>23</th>\n",
              "      <td>ID_024</td>\n",
              "      <td>0.0</td>\n",
              "    </tr>\n",
              "    <tr>\n",
              "      <th>24</th>\n",
              "      <td>ID_025</td>\n",
              "      <td>1.0</td>\n",
              "    </tr>\n",
              "    <tr>\n",
              "      <th>25</th>\n",
              "      <td>ID_026</td>\n",
              "      <td>0.0</td>\n",
              "    </tr>\n",
              "    <tr>\n",
              "      <th>26</th>\n",
              "      <td>ID_027</td>\n",
              "      <td>1.0</td>\n",
              "    </tr>\n",
              "    <tr>\n",
              "      <th>27</th>\n",
              "      <td>ID_028</td>\n",
              "      <td>0.0</td>\n",
              "    </tr>\n",
              "    <tr>\n",
              "      <th>28</th>\n",
              "      <td>ID_029</td>\n",
              "      <td>0.0</td>\n",
              "    </tr>\n",
              "    <tr>\n",
              "      <th>29</th>\n",
              "      <td>ID_030</td>\n",
              "      <td>0.0</td>\n",
              "    </tr>\n",
              "  </tbody>\n",
              "</table>\n",
              "</div>"
            ],
            "text/plain": [
              "        ID  predicted_y\n",
              "0   ID_001          0.0\n",
              "1   ID_002          1.0\n",
              "2   ID_003          0.0\n",
              "3   ID_004          0.0\n",
              "4   ID_005          0.0\n",
              "5   ID_006          0.0\n",
              "6   ID_007          1.0\n",
              "7   ID_008          1.0\n",
              "8   ID_009          0.0\n",
              "9   ID_010          1.0\n",
              "10  ID_011          1.0\n",
              "11  ID_012          0.0\n",
              "12  ID_013          1.0\n",
              "13  ID_014          0.0\n",
              "14  ID_015          0.0\n",
              "15  ID_016          0.0\n",
              "16  ID_017          0.0\n",
              "17  ID_018          0.0\n",
              "18  ID_019          0.0\n",
              "19  ID_020          1.0\n",
              "20  ID_021          1.0\n",
              "21  ID_022          0.0\n",
              "22  ID_023          1.0\n",
              "23  ID_024          0.0\n",
              "24  ID_025          1.0\n",
              "25  ID_026          0.0\n",
              "26  ID_027          1.0\n",
              "27  ID_028          0.0\n",
              "28  ID_029          0.0\n",
              "29  ID_030          0.0"
            ]
          },
          "metadata": {
            "tags": []
          },
          "execution_count": 25
        }
      ]
    },
    {
      "cell_type": "markdown",
      "metadata": {
        "id": "G4Ft7Rn9r39S"
      },
      "source": [
        "##task 4\n",
        "Of the 25 input variables which ones are relevant for this classification task?\n",
        "The following input variables are relevant for this classification task: ……x[21],x[11],x[3],x[16],x[12]……………\n",
        "\n",
        "Interpret your trained model and specify the rules that can be used to classify the output based on the inputs."
      ]
    },
    {
      "cell_type": "code",
      "metadata": {
        "colab": {
          "base_uri": "https://localhost:8080/",
          "height": 204
        },
        "id": "U_hdWVw1ut-N",
        "outputId": "e3303a58-367f-4685-e3d2-42bfd588e84b"
      },
      "source": [
        "new_result= q1_new_data[['x_21','x_11','x_3','x_16','x_12']]\n",
        "new_result.head()"
      ],
      "execution_count": 26,
      "outputs": [
        {
          "output_type": "execute_result",
          "data": {
            "text/html": [
              "<div>\n",
              "<style scoped>\n",
              "    .dataframe tbody tr th:only-of-type {\n",
              "        vertical-align: middle;\n",
              "    }\n",
              "\n",
              "    .dataframe tbody tr th {\n",
              "        vertical-align: top;\n",
              "    }\n",
              "\n",
              "    .dataframe thead th {\n",
              "        text-align: right;\n",
              "    }\n",
              "</style>\n",
              "<table border=\"1\" class=\"dataframe\">\n",
              "  <thead>\n",
              "    <tr style=\"text-align: right;\">\n",
              "      <th></th>\n",
              "      <th>x_21</th>\n",
              "      <th>x_11</th>\n",
              "      <th>x_3</th>\n",
              "      <th>x_16</th>\n",
              "      <th>x_12</th>\n",
              "    </tr>\n",
              "  </thead>\n",
              "  <tbody>\n",
              "    <tr>\n",
              "      <th>0</th>\n",
              "      <td>0.902</td>\n",
              "      <td>0.218</td>\n",
              "      <td>0.020</td>\n",
              "      <td>0.571</td>\n",
              "      <td>0.484</td>\n",
              "    </tr>\n",
              "    <tr>\n",
              "      <th>1</th>\n",
              "      <td>0.893</td>\n",
              "      <td>0.920</td>\n",
              "      <td>0.566</td>\n",
              "      <td>0.941</td>\n",
              "      <td>0.177</td>\n",
              "    </tr>\n",
              "    <tr>\n",
              "      <th>2</th>\n",
              "      <td>0.383</td>\n",
              "      <td>0.830</td>\n",
              "      <td>0.298</td>\n",
              "      <td>0.945</td>\n",
              "      <td>0.898</td>\n",
              "    </tr>\n",
              "    <tr>\n",
              "      <th>3</th>\n",
              "      <td>0.936</td>\n",
              "      <td>0.647</td>\n",
              "      <td>0.082</td>\n",
              "      <td>0.917</td>\n",
              "      <td>0.512</td>\n",
              "    </tr>\n",
              "    <tr>\n",
              "      <th>4</th>\n",
              "      <td>0.452</td>\n",
              "      <td>0.224</td>\n",
              "      <td>0.861</td>\n",
              "      <td>0.684</td>\n",
              "      <td>0.875</td>\n",
              "    </tr>\n",
              "  </tbody>\n",
              "</table>\n",
              "</div>"
            ],
            "text/plain": [
              "    x_21   x_11    x_3   x_16   x_12\n",
              "0  0.902  0.218  0.020  0.571  0.484\n",
              "1  0.893  0.920  0.566  0.941  0.177\n",
              "2  0.383  0.830  0.298  0.945  0.898\n",
              "3  0.936  0.647  0.082  0.917  0.512\n",
              "4  0.452  0.224  0.861  0.684  0.875"
            ]
          },
          "metadata": {
            "tags": []
          },
          "execution_count": 26
        }
      ]
    },
    {
      "cell_type": "code",
      "metadata": {
        "id": "-R8BSL2dzZWI"
      },
      "source": [
        "feature_21= new_result['x_21']\n",
        "feature_11=new_result['x_11']\n",
        "feature_3 =new_result['x_3']\n",
        "feature_16 = new_result['x_16']\n",
        "feature_12 =new_result['x_12'] "
      ],
      "execution_count": 27,
      "outputs": []
    },
    {
      "cell_type": "code",
      "metadata": {
        "id": "yBY6oo48yMMe"
      },
      "source": [
        "def prediction(feature_21,feature_11,feature_3,feature_16,feature_12):\n",
        "\n",
        "  if feature_21 <= 0.87:\n",
        "    if feature_11 <= 1.01:\n",
        "      if feature_3 <= 1.09:\n",
        "        print('class: 1.0')\n",
        "\n",
        "  if feature_21 <= 0.8:\n",
        "    if feature_11 <= 1.01:\n",
        "      if feature_3 > 1.09:\n",
        "        print('class: 0.0')\n",
        "\n",
        "#Rule 3 \n",
        "  if feature_21 <= 0.87:\n",
        "    if feature_11 > 1.0:\n",
        "      print('class: 0.0')\n",
        "\n",
        "#Rule 4. \n",
        "  if feature_21 >  0.87:\n",
        "    if feature_16 <= 1.71:\n",
        "      if feature_12 <= -1.72:\n",
        "        print('class: 0.0')\n",
        "\n",
        "#Rule 5.\n",
        "  if feature_21 >  0.87:\n",
        "    if feature_16 <= 1.71:\n",
        "      if feature_12 > -1.72:\n",
        "        print('class: 0.0')\n",
        "\n",
        "#Rule 6. \n",
        "  if feature_21 >  0.87:\n",
        "    if feature_16 > 1.71:\n",
        "      print('class: 1.0')\n"
      ],
      "execution_count": 28,
      "outputs": []
    },
    {
      "cell_type": "code",
      "metadata": {
        "colab": {
          "base_uri": "https://localhost:8080/"
        },
        "id": "3l317ZKx4kAf",
        "outputId": "50ab70d4-da4a-45fd-c249-80c633ace9bc"
      },
      "source": [
        "prediction(0.902,\t0.218,\t0.020,\t0.571,\t0.484)"
      ],
      "execution_count": 29,
      "outputs": [
        {
          "output_type": "stream",
          "text": [
            "class: 0.0\n"
          ],
          "name": "stdout"
        }
      ]
    },
    {
      "cell_type": "code",
      "metadata": {
        "colab": {
          "base_uri": "https://localhost:8080/"
        },
        "id": "qv9Np--W6xXM",
        "outputId": "a2dba081-c820-4ca5-aeb8-eccf59766e17"
      },
      "source": [
        "prediction(0.452,\t0.224,\t0.861,\t0.684,\t0.875)"
      ],
      "execution_count": 30,
      "outputs": [
        {
          "output_type": "stream",
          "text": [
            "class: 1.0\n"
          ],
          "name": "stdout"
        }
      ]
    },
    {
      "cell_type": "markdown",
      "metadata": {
        "id": "Dgfb7BPShWJM"
      },
      "source": [
        "##qustion 2 "
      ]
    },
    {
      "cell_type": "code",
      "metadata": {
        "id": "tsAfGpFOy1e-"
      },
      "source": [
        "q2_new = pd.read_csv(\"/content/hw2.q2.new.csv\")\n",
        "q2_train = pd.read_csv(\"/content/hw2.q2.train.csv\")\n",
        "q2_test = pd.read_csv(\"/content/hw2.q2.test.csv\")"
      ],
      "execution_count": 31,
      "outputs": []
    },
    {
      "cell_type": "code",
      "metadata": {
        "colab": {
          "base_uri": "https://localhost:8080/",
          "height": 204
        },
        "id": "20deHPR47xbx",
        "outputId": "fa299d6e-32dd-4c3f-dedd-0601ddc658f3"
      },
      "source": [
        "q2_new.head()"
      ],
      "execution_count": 32,
      "outputs": [
        {
          "output_type": "execute_result",
          "data": {
            "text/html": [
              "<div>\n",
              "<style scoped>\n",
              "    .dataframe tbody tr th:only-of-type {\n",
              "        vertical-align: middle;\n",
              "    }\n",
              "\n",
              "    .dataframe tbody tr th {\n",
              "        vertical-align: top;\n",
              "    }\n",
              "\n",
              "    .dataframe thead th {\n",
              "        text-align: right;\n",
              "    }\n",
              "</style>\n",
              "<table border=\"1\" class=\"dataframe\">\n",
              "  <thead>\n",
              "    <tr style=\"text-align: right;\">\n",
              "      <th></th>\n",
              "      <th>ID</th>\n",
              "      <th>x1</th>\n",
              "      <th>x2</th>\n",
              "      <th>x3</th>\n",
              "      <th>x4</th>\n",
              "      <th>x5</th>\n",
              "      <th>x6</th>\n",
              "      <th>x7</th>\n",
              "      <th>x8</th>\n",
              "      <th>x9</th>\n",
              "      <th>x10</th>\n",
              "    </tr>\n",
              "  </thead>\n",
              "  <tbody>\n",
              "    <tr>\n",
              "      <th>0</th>\n",
              "      <td>ID_001</td>\n",
              "      <td>0.531</td>\n",
              "      <td>3.611</td>\n",
              "      <td>0.593</td>\n",
              "      <td>-0.334</td>\n",
              "      <td>1.423</td>\n",
              "      <td>1.045</td>\n",
              "      <td>-1.324</td>\n",
              "      <td>2.593</td>\n",
              "      <td>-0.085</td>\n",
              "      <td>2.383</td>\n",
              "    </tr>\n",
              "    <tr>\n",
              "      <th>1</th>\n",
              "      <td>ID_002</td>\n",
              "      <td>-2.133</td>\n",
              "      <td>-3.412</td>\n",
              "      <td>1.057</td>\n",
              "      <td>0.459</td>\n",
              "      <td>2.413</td>\n",
              "      <td>-0.919</td>\n",
              "      <td>3.076</td>\n",
              "      <td>0.892</td>\n",
              "      <td>3.552</td>\n",
              "      <td>-1.467</td>\n",
              "    </tr>\n",
              "    <tr>\n",
              "      <th>2</th>\n",
              "      <td>ID_003</td>\n",
              "      <td>0.270</td>\n",
              "      <td>-0.918</td>\n",
              "      <td>0.900</td>\n",
              "      <td>-0.699</td>\n",
              "      <td>2.407</td>\n",
              "      <td>-0.564</td>\n",
              "      <td>3.259</td>\n",
              "      <td>-0.536</td>\n",
              "      <td>1.287</td>\n",
              "      <td>0.427</td>\n",
              "    </tr>\n",
              "    <tr>\n",
              "      <th>3</th>\n",
              "      <td>ID_004</td>\n",
              "      <td>-0.503</td>\n",
              "      <td>-1.124</td>\n",
              "      <td>3.121</td>\n",
              "      <td>-2.338</td>\n",
              "      <td>0.194</td>\n",
              "      <td>-0.722</td>\n",
              "      <td>0.971</td>\n",
              "      <td>0.682</td>\n",
              "      <td>1.288</td>\n",
              "      <td>0.352</td>\n",
              "    </tr>\n",
              "    <tr>\n",
              "      <th>4</th>\n",
              "      <td>ID_005</td>\n",
              "      <td>3.244</td>\n",
              "      <td>2.381</td>\n",
              "      <td>1.602</td>\n",
              "      <td>0.400</td>\n",
              "      <td>0.064</td>\n",
              "      <td>-0.859</td>\n",
              "      <td>-2.545</td>\n",
              "      <td>0.422</td>\n",
              "      <td>3.577</td>\n",
              "      <td>0.390</td>\n",
              "    </tr>\n",
              "  </tbody>\n",
              "</table>\n",
              "</div>"
            ],
            "text/plain": [
              "       ID     x1     x2     x3     x4     x5     x6     x7     x8     x9    x10\n",
              "0  ID_001  0.531  3.611  0.593 -0.334  1.423  1.045 -1.324  2.593 -0.085  2.383\n",
              "1  ID_002 -2.133 -3.412  1.057  0.459  2.413 -0.919  3.076  0.892  3.552 -1.467\n",
              "2  ID_003  0.270 -0.918  0.900 -0.699  2.407 -0.564  3.259 -0.536  1.287  0.427\n",
              "3  ID_004 -0.503 -1.124  3.121 -2.338  0.194 -0.722  0.971  0.682  1.288  0.352\n",
              "4  ID_005  3.244  2.381  1.602  0.400  0.064 -0.859 -2.545  0.422  3.577  0.390"
            ]
          },
          "metadata": {
            "tags": []
          },
          "execution_count": 32
        }
      ]
    },
    {
      "cell_type": "code",
      "metadata": {
        "colab": {
          "base_uri": "https://localhost:8080/",
          "height": 204
        },
        "id": "LHbQlc5w7542",
        "outputId": "a604d642-6495-48ec-8be8-b64b6988c418"
      },
      "source": [
        "q2_train.head()"
      ],
      "execution_count": 33,
      "outputs": [
        {
          "output_type": "execute_result",
          "data": {
            "text/html": [
              "<div>\n",
              "<style scoped>\n",
              "    .dataframe tbody tr th:only-of-type {\n",
              "        vertical-align: middle;\n",
              "    }\n",
              "\n",
              "    .dataframe tbody tr th {\n",
              "        vertical-align: top;\n",
              "    }\n",
              "\n",
              "    .dataframe thead th {\n",
              "        text-align: right;\n",
              "    }\n",
              "</style>\n",
              "<table border=\"1\" class=\"dataframe\">\n",
              "  <thead>\n",
              "    <tr style=\"text-align: right;\">\n",
              "      <th></th>\n",
              "      <th>y</th>\n",
              "      <th>x1</th>\n",
              "      <th>x2</th>\n",
              "      <th>x3</th>\n",
              "      <th>x4</th>\n",
              "      <th>x5</th>\n",
              "      <th>x6</th>\n",
              "      <th>x7</th>\n",
              "      <th>x8</th>\n",
              "      <th>x9</th>\n",
              "      <th>x10</th>\n",
              "    </tr>\n",
              "  </thead>\n",
              "  <tbody>\n",
              "    <tr>\n",
              "      <th>0</th>\n",
              "      <td>2.0</td>\n",
              "      <td>-0.613</td>\n",
              "      <td>-1.465</td>\n",
              "      <td>-1.105</td>\n",
              "      <td>0.436</td>\n",
              "      <td>-1.658</td>\n",
              "      <td>-1.357</td>\n",
              "      <td>-2.375</td>\n",
              "      <td>-0.997</td>\n",
              "      <td>-0.653</td>\n",
              "      <td>1.186</td>\n",
              "    </tr>\n",
              "    <tr>\n",
              "      <th>1</th>\n",
              "      <td>1.0</td>\n",
              "      <td>-1.154</td>\n",
              "      <td>0.473</td>\n",
              "      <td>3.159</td>\n",
              "      <td>-4.770</td>\n",
              "      <td>0.402</td>\n",
              "      <td>-0.160</td>\n",
              "      <td>-1.925</td>\n",
              "      <td>-0.105</td>\n",
              "      <td>-2.304</td>\n",
              "      <td>0.032</td>\n",
              "    </tr>\n",
              "    <tr>\n",
              "      <th>2</th>\n",
              "      <td>2.0</td>\n",
              "      <td>0.147</td>\n",
              "      <td>-0.814</td>\n",
              "      <td>-0.792</td>\n",
              "      <td>-1.403</td>\n",
              "      <td>2.124</td>\n",
              "      <td>-2.263</td>\n",
              "      <td>-2.133</td>\n",
              "      <td>-2.461</td>\n",
              "      <td>-0.781</td>\n",
              "      <td>0.932</td>\n",
              "    </tr>\n",
              "    <tr>\n",
              "      <th>3</th>\n",
              "      <td>2.0</td>\n",
              "      <td>0.257</td>\n",
              "      <td>0.056</td>\n",
              "      <td>-4.556</td>\n",
              "      <td>3.006</td>\n",
              "      <td>3.555</td>\n",
              "      <td>-0.215</td>\n",
              "      <td>-3.230</td>\n",
              "      <td>-2.910</td>\n",
              "      <td>-6.938</td>\n",
              "      <td>3.004</td>\n",
              "    </tr>\n",
              "    <tr>\n",
              "      <th>4</th>\n",
              "      <td>2.0</td>\n",
              "      <td>0.414</td>\n",
              "      <td>-2.268</td>\n",
              "      <td>-2.573</td>\n",
              "      <td>0.374</td>\n",
              "      <td>1.498</td>\n",
              "      <td>-2.110</td>\n",
              "      <td>-3.180</td>\n",
              "      <td>-2.537</td>\n",
              "      <td>-3.261</td>\n",
              "      <td>0.654</td>\n",
              "    </tr>\n",
              "  </tbody>\n",
              "</table>\n",
              "</div>"
            ],
            "text/plain": [
              "     y     x1     x2     x3     x4     x5     x6     x7     x8     x9    x10\n",
              "0  2.0 -0.613 -1.465 -1.105  0.436 -1.658 -1.357 -2.375 -0.997 -0.653  1.186\n",
              "1  1.0 -1.154  0.473  3.159 -4.770  0.402 -0.160 -1.925 -0.105 -2.304  0.032\n",
              "2  2.0  0.147 -0.814 -0.792 -1.403  2.124 -2.263 -2.133 -2.461 -0.781  0.932\n",
              "3  2.0  0.257  0.056 -4.556  3.006  3.555 -0.215 -3.230 -2.910 -6.938  3.004\n",
              "4  2.0  0.414 -2.268 -2.573  0.374  1.498 -2.110 -3.180 -2.537 -3.261  0.654"
            ]
          },
          "metadata": {
            "tags": []
          },
          "execution_count": 33
        }
      ]
    },
    {
      "cell_type": "code",
      "metadata": {
        "id": "AOgMu3DTSUEk"
      },
      "source": [
        "X_train = q2_train.iloc[:, 1:].values\n",
        "y_train = q2_train.iloc[:, 0].values"
      ],
      "execution_count": 34,
      "outputs": []
    },
    {
      "cell_type": "code",
      "metadata": {
        "colab": {
          "base_uri": "https://localhost:8080/"
        },
        "id": "e_Ng6X3xSUJG",
        "outputId": "63666927-db5f-4e9b-9fd3-d3337f69276a"
      },
      "source": [
        "print(X_train)\n",
        "print(y_train)\n"
      ],
      "execution_count": 35,
      "outputs": [
        {
          "output_type": "stream",
          "text": [
            "[[-0.613 -1.465 -1.105 ... -0.997 -0.653  1.186]\n",
            " [-1.154  0.473  3.159 ... -0.105 -2.304  0.032]\n",
            " [ 0.147 -0.814 -0.792 ... -2.461 -0.781  0.932]\n",
            " ...\n",
            " [-2.258 -1.725  0.399 ...  2.177  1.62  -4.489]\n",
            " [-2.433  2.656  0.504 ...  1.172 -1.406 -1.709]\n",
            " [-4.033 -0.061  1.171 ...  2.414 -0.66  -1.85 ]]\n",
            "[2. 1. 2. ... 0. 1. 1.]\n"
          ],
          "name": "stdout"
        }
      ]
    },
    {
      "cell_type": "code",
      "metadata": {
        "colab": {
          "base_uri": "https://localhost:8080/",
          "height": 204
        },
        "id": "GGQSJ5x-8AUD",
        "outputId": "50672507-9f83-499d-8747-3ebd6087a939"
      },
      "source": [
        "q2_test.head()"
      ],
      "execution_count": 36,
      "outputs": [
        {
          "output_type": "execute_result",
          "data": {
            "text/html": [
              "<div>\n",
              "<style scoped>\n",
              "    .dataframe tbody tr th:only-of-type {\n",
              "        vertical-align: middle;\n",
              "    }\n",
              "\n",
              "    .dataframe tbody tr th {\n",
              "        vertical-align: top;\n",
              "    }\n",
              "\n",
              "    .dataframe thead th {\n",
              "        text-align: right;\n",
              "    }\n",
              "</style>\n",
              "<table border=\"1\" class=\"dataframe\">\n",
              "  <thead>\n",
              "    <tr style=\"text-align: right;\">\n",
              "      <th></th>\n",
              "      <th>y</th>\n",
              "      <th>x1</th>\n",
              "      <th>x2</th>\n",
              "      <th>x3</th>\n",
              "      <th>x4</th>\n",
              "      <th>x5</th>\n",
              "      <th>x6</th>\n",
              "      <th>x7</th>\n",
              "      <th>x8</th>\n",
              "      <th>x9</th>\n",
              "      <th>x10</th>\n",
              "    </tr>\n",
              "  </thead>\n",
              "  <tbody>\n",
              "    <tr>\n",
              "      <th>0</th>\n",
              "      <td>3.0</td>\n",
              "      <td>3.232</td>\n",
              "      <td>1.764</td>\n",
              "      <td>0.415</td>\n",
              "      <td>0.298</td>\n",
              "      <td>3.483</td>\n",
              "      <td>-2.967</td>\n",
              "      <td>-2.776</td>\n",
              "      <td>-0.663</td>\n",
              "      <td>-1.972</td>\n",
              "      <td>3.462</td>\n",
              "    </tr>\n",
              "    <tr>\n",
              "      <th>1</th>\n",
              "      <td>0.0</td>\n",
              "      <td>0.511</td>\n",
              "      <td>2.965</td>\n",
              "      <td>1.070</td>\n",
              "      <td>-5.708</td>\n",
              "      <td>-1.587</td>\n",
              "      <td>3.128</td>\n",
              "      <td>-0.085</td>\n",
              "      <td>5.147</td>\n",
              "      <td>2.264</td>\n",
              "      <td>3.042</td>\n",
              "    </tr>\n",
              "    <tr>\n",
              "      <th>2</th>\n",
              "      <td>2.0</td>\n",
              "      <td>-3.026</td>\n",
              "      <td>-3.338</td>\n",
              "      <td>0.276</td>\n",
              "      <td>0.822</td>\n",
              "      <td>-0.464</td>\n",
              "      <td>-2.247</td>\n",
              "      <td>-3.819</td>\n",
              "      <td>0.463</td>\n",
              "      <td>2.213</td>\n",
              "      <td>3.246</td>\n",
              "    </tr>\n",
              "    <tr>\n",
              "      <th>3</th>\n",
              "      <td>0.0</td>\n",
              "      <td>0.502</td>\n",
              "      <td>-0.251</td>\n",
              "      <td>0.238</td>\n",
              "      <td>2.173</td>\n",
              "      <td>-1.484</td>\n",
              "      <td>2.063</td>\n",
              "      <td>-2.517</td>\n",
              "      <td>-0.330</td>\n",
              "      <td>3.394</td>\n",
              "      <td>2.273</td>\n",
              "    </tr>\n",
              "    <tr>\n",
              "      <th>4</th>\n",
              "      <td>0.0</td>\n",
              "      <td>-1.609</td>\n",
              "      <td>-2.429</td>\n",
              "      <td>-2.249</td>\n",
              "      <td>-2.522</td>\n",
              "      <td>2.858</td>\n",
              "      <td>5.679</td>\n",
              "      <td>0.190</td>\n",
              "      <td>2.790</td>\n",
              "      <td>2.770</td>\n",
              "      <td>-6.885</td>\n",
              "    </tr>\n",
              "  </tbody>\n",
              "</table>\n",
              "</div>"
            ],
            "text/plain": [
              "     y     x1     x2     x3     x4     x5     x6     x7     x8     x9    x10\n",
              "0  3.0  3.232  1.764  0.415  0.298  3.483 -2.967 -2.776 -0.663 -1.972  3.462\n",
              "1  0.0  0.511  2.965  1.070 -5.708 -1.587  3.128 -0.085  5.147  2.264  3.042\n",
              "2  2.0 -3.026 -3.338  0.276  0.822 -0.464 -2.247 -3.819  0.463  2.213  3.246\n",
              "3  0.0  0.502 -0.251  0.238  2.173 -1.484  2.063 -2.517 -0.330  3.394  2.273\n",
              "4  0.0 -1.609 -2.429 -2.249 -2.522  2.858  5.679  0.190  2.790  2.770 -6.885"
            ]
          },
          "metadata": {
            "tags": []
          },
          "execution_count": 36
        }
      ]
    },
    {
      "cell_type": "code",
      "metadata": {
        "id": "wDoWS2-9X8Wi"
      },
      "source": [
        "X_test = q2_test.iloc[:, 1:].values\n",
        "y_test = q2_test.iloc[:, 0].values"
      ],
      "execution_count": 37,
      "outputs": []
    },
    {
      "cell_type": "code",
      "metadata": {
        "colab": {
          "base_uri": "https://localhost:8080/"
        },
        "id": "a9Oj1b2rYI-B",
        "outputId": "1aa7907a-8265-462f-be72-c1dc86339ee2"
      },
      "source": [
        "print(X_test)\n",
        "print(y_test)"
      ],
      "execution_count": 38,
      "outputs": [
        {
          "output_type": "stream",
          "text": [
            "[[ 3.232  1.764  0.415 ... -0.663 -1.972  3.462]\n",
            " [ 0.511  2.965  1.07  ...  5.147  2.264  3.042]\n",
            " [-3.026 -3.338  0.276 ...  0.463  2.213  3.246]\n",
            " ...\n",
            " [-7.994 -3.439 -0.295 ...  2.895 -2.137 -2.122]\n",
            " [-0.763  1.872  3.001 ...  0.201 -0.578  0.453]\n",
            " [-1.605  0.75  -0.78  ... -1.344  0.19   0.475]]\n",
            "[3. 0. 2. ... 1. 3. 3.]\n"
          ],
          "name": "stdout"
        }
      ]
    },
    {
      "cell_type": "markdown",
      "metadata": {
        "id": "ammDxuRQscmM"
      },
      "source": [
        "##Task 1"
      ]
    },
    {
      "cell_type": "code",
      "metadata": {
        "colab": {
          "base_uri": "https://localhost:8080/"
        },
        "id": "IMHKkMq2HDtA",
        "outputId": "b84d79bf-9ffc-4085-a87b-81617031520e"
      },
      "source": [
        "log_cols=[\"Classifier\", \"Accuracy\", \"Log Loss\"]\n",
        "log = pd.DataFrame(columns=log_cols)\n",
        "\n",
        "for clf in classifiers:\n",
        "    clf.fit(X_train, y_train)\n",
        "    name = clf.__class__.__name__\n",
        "    \n",
        "    print(\"=\"*30)\n",
        "    print(name)\n",
        "    \n",
        "    print('****Results****')\n",
        "    train_predictions = clf.predict(X_test)\n",
        "    acc = accuracy_score(y_test, train_predictions)\n",
        "    print(\"Accuracy: {:.4%}\".format(acc))\n",
        "\n",
        "    train_predictions = clf.predict_proba(X_test)\n",
        "    ll = log_loss(y_test, train_predictions)\n",
        "    print(\"Log Loss: {}\".format(ll))\n",
        "\n",
        "    log_entry = pd.DataFrame([[name, acc*100, ll]], columns=log_cols)\n",
        "    log = log.append(log_entry)\n",
        "    \n",
        "print(\"=\"*30)"
      ],
      "execution_count": 39,
      "outputs": [
        {
          "output_type": "stream",
          "text": [
            "==============================\n",
            "KNeighborsClassifier\n",
            "****Results****\n",
            "Accuracy: 96.9500%\n",
            "Log Loss: 0.6201403818546847\n",
            "==============================\n",
            "SVC\n",
            "****Results****\n",
            "Accuracy: 93.3000%\n",
            "Log Loss: 0.21392782558463738\n",
            "==============================\n",
            "NuSVC\n",
            "****Results****\n",
            "Accuracy: 92.6500%\n",
            "Log Loss: 0.23587518755980033\n",
            "==============================\n",
            "DecisionTreeClassifier\n",
            "****Results****\n",
            "Accuracy: 85.3500%\n",
            "Log Loss: 5.059930741854416\n",
            "==============================\n",
            "RandomForestClassifier\n",
            "****Results****\n",
            "Accuracy: 94.7500%\n",
            "Log Loss: 0.3179550830457563\n",
            "==============================\n",
            "AdaBoostClassifier\n",
            "****Results****\n",
            "Accuracy: 79.9000%\n",
            "Log Loss: 1.320804721557101\n",
            "==============================\n",
            "GradientBoostingClassifier\n",
            "****Results****\n",
            "Accuracy: 93.2500%\n",
            "Log Loss: 0.25257269096940016\n",
            "==============================\n",
            "GaussianNB\n",
            "****Results****\n",
            "Accuracy: 84.4000%\n",
            "Log Loss: 0.4705159105341128\n",
            "==============================\n",
            "LinearDiscriminantAnalysis\n",
            "****Results****\n",
            "Accuracy: 86.0500%\n",
            "Log Loss: 0.4033631596557784\n",
            "==============================\n",
            "QuadraticDiscriminantAnalysis\n",
            "****Results****\n",
            "Accuracy: 94.3000%\n",
            "Log Loss: 0.3056659595499301\n",
            "==============================\n"
          ],
          "name": "stdout"
        }
      ]
    },
    {
      "cell_type": "markdown",
      "metadata": {
        "id": "yHTsLNLAuNnO"
      },
      "source": [
        "KNeighborsClassifier\n",
        "****Results****\n",
        "Accuracy: 96.9500% is show better performance\n"
      ]
    },
    {
      "cell_type": "code",
      "metadata": {
        "colab": {
          "base_uri": "https://localhost:8080/",
          "height": 573
        },
        "id": "tLbZ56Z5NRld",
        "outputId": "1aa0d6d9-f30f-4150-a17b-dab49721fe2c"
      },
      "source": [
        "sns.set_color_codes(\"muted\")\n",
        "sns.barplot(x='Accuracy', y='Classifier', data=log, color=\"b\")\n",
        "\n",
        "plt.xlabel('Accuracy %')\n",
        "plt.title('Classifier Accuracy')\n",
        "plt.show()\n",
        "\n",
        "sns.set_color_codes(\"muted\")\n",
        "sns.barplot(x='Log Loss', y='Classifier', data=log, color=\"g\")\n",
        "\n",
        "plt.xlabel('Log Loss')\n",
        "plt.title('Classifier Log Loss')\n",
        "plt.show()"
      ],
      "execution_count": 40,
      "outputs": [
        {
          "output_type": "display_data",
          "data": {
            "image/png": "[encoded data removed]",
            "text/plain": [
              "<Figure size 432x288 with 1 Axes>"
            ]
          },
          "metadata": {
            "tags": [],
            "needs_background": "light"
          }
        },
        {
          "output_type": "display_data",
          "data": {
            "image/png": "[encoded data removed]",
            "text/plain": [
              "<Figure size 432x288 with 1 Axes>"
            ]
          },
          "metadata": {
            "tags": [],
            "needs_background": "light"
          }
        }
      ]
    },
    {
      "cell_type": "markdown",
      "metadata": {
        "id": "vGXDMB0on_iG"
      },
      "source": [
        "## Feature Scaling"
      ]
    },
    {
      "cell_type": "code",
      "metadata": {
        "id": "DDELWIqWn_iH"
      },
      "source": [
        "sc = StandardScaler()\n",
        "X_train = sc.fit_transform(X_train)\n",
        "X_test = sc.transform(X_test)"
      ],
      "execution_count": 41,
      "outputs": []
    },
    {
      "cell_type": "code",
      "metadata": {
        "colab": {
          "base_uri": "https://localhost:8080/"
        },
        "id": "rqWeX2hYn_iH",
        "outputId": "c4e14f95-8329-408c-b066-67b355a6cdc4"
      },
      "source": [
        "print(X_train)"
      ],
      "execution_count": 42,
      "outputs": [
        {
          "output_type": "stream",
          "text": [
            "[[ 6.98307294e-02 -6.42314530e-01 -6.47286692e-01 ... -4.40500751e-01\n",
            "  -1.13020996e-01  4.76826018e-01]\n",
            " [-1.67032579e-01  2.19903758e-01  1.24048447e+00 ... -6.44667955e-02\n",
            "  -8.46722651e-01  1.46059527e-03]\n",
            " [ 4.02577706e-01 -3.52683928e-01 -5.08714371e-01 ... -1.05766859e+00\n",
            "  -1.69903983e-01  3.72196193e-01]\n",
            " ...\n",
            " [-6.50391346e-01 -7.57988810e-01  1.85688016e-02 ...  8.97539355e-01\n",
            "   8.97096425e-01 -1.86086789e+00]\n",
            " [-7.27010716e-01  1.19112281e+00  6.50547236e-02 ...  4.73868811e-01\n",
            "  -4.47652944e-01 -7.15706823e-01]\n",
            " [-1.42753067e+00 -1.76734172e-02  3.60351009e-01 ...  9.97449722e-01\n",
            "  -1.16131784e-01 -7.73788733e-01]]\n"
          ],
          "name": "stdout"
        }
      ]
    },
    {
      "cell_type": "code",
      "metadata": {
        "colab": {
          "base_uri": "https://localhost:8080/"
        },
        "id": "apa1KBJ5n_iI",
        "outputId": "6445bddb-b613-4efb-a2ea-eb18b724b4e2"
      },
      "source": [
        "print(X_test)"
      ],
      "execution_count": 43,
      "outputs": [
        {
          "output_type": "stream",
          "text": [
            "[[ 1.75326774  0.79427105  0.02565237 ... -0.2996988  -0.6991824\n",
            "   1.41437515]\n",
            " [ 0.561946    1.32859724  0.31563598 ...  2.14958066  1.18328895\n",
            "   1.24136521]\n",
            " [-0.98664092 -1.47561425 -0.03588614 ...  0.17498084  1.16062464\n",
            "   1.32539861]\n",
            " ...\n",
            " [-3.16175537 -1.52054926 -0.28868101 ...  1.20022139 -0.77250813\n",
            "  -0.88583327]\n",
            " [ 0.00415698  0.84232036  1.17053422 ...  0.0645314  -0.07969112\n",
            "   0.17488247]\n",
            " [-0.36449164  0.34314136 -0.50340169 ... -0.58678302  0.2616068\n",
            "   0.1839449 ]]\n"
          ],
          "name": "stdout"
        }
      ]
    },
    {
      "cell_type": "markdown",
      "metadata": {
        "id": "bb6jCOCQiAmP"
      },
      "source": [
        "## Training the K-NN model on the Training set"
      ]
    },
    {
      "cell_type": "code",
      "metadata": {
        "id": "e0pFVAmciHQs",
        "colab": {
          "base_uri": "https://localhost:8080/"
        },
        "outputId": "dc861b72-8f08-491d-9f53-0898546d311d"
      },
      "source": [
        "from sklearn.neighbors import KNeighborsClassifier\n",
        "classifier = KNeighborsClassifier(n_neighbors = 5, metric = 'minkowski', p = 2)\n",
        "classifier.fit(X_train, y_train)"
      ],
      "execution_count": 44,
      "outputs": [
        {
          "output_type": "execute_result",
          "data": {
            "text/plain": [
              "KNeighborsClassifier(algorithm='auto', leaf_size=30, metric='minkowski',\n",
              "                     metric_params=None, n_jobs=None, n_neighbors=5, p=2,\n",
              "                     weights='uniform')"
            ]
          },
          "metadata": {
            "tags": []
          },
          "execution_count": 44
        }
      ]
    },
    {
      "cell_type": "markdown",
      "metadata": {
        "id": "yyxW5b395mR2"
      },
      "source": [
        " Predicting a new result"
      ]
    },
    {
      "cell_type": "code",
      "metadata": {
        "id": "f8YOXsQy58rP",
        "colab": {
          "base_uri": "https://localhost:8080/"
        },
        "outputId": "a64d00cd-dc53-4635-f5ae-178d126e4bf1"
      },
      "source": [
        "print(classifier.predict(sc.transform([[3.232,1.764,0.415,0.298,3.483,-2.967,-2.776,-0.663,-1.972,3.462]])))"
      ],
      "execution_count": 45,
      "outputs": [
        {
          "output_type": "stream",
          "text": [
            "[3.]\n"
          ],
          "name": "stdout"
        }
      ]
    },
    {
      "cell_type": "markdown",
      "metadata": {
        "id": "vKYVQH-l5NpE"
      },
      "source": [
        " Predicting the Test set results"
      ]
    },
    {
      "cell_type": "code",
      "metadata": {
        "id": "p6VMTb2O4hwM",
        "colab": {
          "base_uri": "https://localhost:8080/"
        },
        "outputId": "10f9ec29-64ff-4290-f0c5-b2755c865300"
      },
      "source": [
        "y_pred = classifier.predict(X_test)\n",
        "print(np.concatenate((y_pred.reshape(len(y_pred),1), y_test.reshape(len(y_test),1)),1))"
      ],
      "execution_count": 46,
      "outputs": [
        {
          "output_type": "stream",
          "text": [
            "[[3. 3.]\n",
            " [0. 0.]\n",
            " [2. 2.]\n",
            " ...\n",
            " [1. 1.]\n",
            " [3. 3.]\n",
            " [3. 3.]]\n"
          ],
          "name": "stdout"
        }
      ]
    },
    {
      "cell_type": "markdown",
      "metadata": {
        "id": "OP7hL4lfsy4D"
      },
      "source": [
        "##Task 2"
      ]
    },
    {
      "cell_type": "markdown",
      "metadata": {
        "id": "h4Hwj34ziWQW"
      },
      "source": [
        "Making the Confusion Matrix"
      ]
    },
    {
      "cell_type": "code",
      "metadata": {
        "id": "D6bpZwUiiXic",
        "colab": {
          "base_uri": "https://localhost:8080/"
        },
        "outputId": "44bfca52-7a44-45a4-d6f9-2f4b330de77d"
      },
      "source": [
        "cm = confusion_matrix(y_test, y_pred)\n",
        "print(cm)\n",
        "accuracy_score(y_test, y_pred)"
      ],
      "execution_count": 47,
      "outputs": [
        {
          "output_type": "stream",
          "text": [
            "[[489   7   1   3]\n",
            " [  9 481   3   5]\n",
            " [  4   7 481   1]\n",
            " [  5   9   4 491]]\n"
          ],
          "name": "stdout"
        },
        {
          "output_type": "execute_result",
          "data": {
            "text/plain": [
              "0.971"
            ]
          },
          "metadata": {
            "tags": []
          },
          "execution_count": 47
        }
      ]
    },
    {
      "cell_type": "code",
      "metadata": {
        "colab": {
          "base_uri": "https://localhost:8080/"
        },
        "id": "PYVTzQzkonEH",
        "outputId": "ac4a2529-b6d8-448c-f732-bae868f74f36"
      },
      "source": [
        "# make class predictions\n",
        "y_pred = classifier.predict(X_test)\n",
        "accuracy=accuracy_score(y_test, y_pred)\n",
        "print(f'ACCURACY:{accuracy}')\n",
        "print('\\n')\n",
        "# generate classification report\n",
        "from sklearn import metrics\n",
        "print(metrics.classification_report(y_test, y_pred))"
      ],
      "execution_count": 48,
      "outputs": [
        {
          "output_type": "stream",
          "text": [
            "ACCURACY:0.971\n",
            "\n",
            "\n",
            "              precision    recall  f1-score   support\n",
            "\n",
            "         0.0       0.96      0.98      0.97       500\n",
            "         1.0       0.95      0.97      0.96       498\n",
            "         2.0       0.98      0.98      0.98       493\n",
            "         3.0       0.98      0.96      0.97       509\n",
            "\n",
            "    accuracy                           0.97      2000\n",
            "   macro avg       0.97      0.97      0.97      2000\n",
            "weighted avg       0.97      0.97      0.97      2000\n",
            "\n"
          ],
          "name": "stdout"
        }
      ]
    },
    {
      "cell_type": "code",
      "metadata": {
        "colab": {
          "base_uri": "https://localhost:8080/"
        },
        "id": "L-I7liBqlPZa",
        "outputId": "79fdd84b-8338-42d7-f810-016af4b76fcb"
      },
      "source": [
        "new_pred=y_pred[:30]\n",
        "new_pred"
      ],
      "execution_count": 49,
      "outputs": [
        {
          "output_type": "execute_result",
          "data": {
            "text/plain": [
              "array([3., 0., 2., 0., 0., 0., 0., 1., 0., 3., 2., 2., 2., 1., 3., 0., 3.,\n",
              "       0., 2., 2., 1., 0., 2., 1., 2., 3., 3., 0., 3., 0.])"
            ]
          },
          "metadata": {
            "tags": []
          },
          "execution_count": 49
        }
      ]
    },
    {
      "cell_type": "code",
      "metadata": {
        "colab": {
          "base_uri": "https://localhost:8080/",
          "height": 310
        },
        "id": "HUpU0EOjlPZa",
        "outputId": "9fbadccd-0e89-4478-fb71-35157fbf9108"
      },
      "source": [
        "q2_new_data = q2_new[:30]\n",
        "q2_new_data['predicted_y']= new_pred\n",
        "q2_new_data.head()"
      ],
      "execution_count": 50,
      "outputs": [
        {
          "output_type": "stream",
          "text": [
            "/usr/local/lib/python3.7/dist-packages/ipykernel_launcher.py:2: SettingWithCopyWarning: \n",
            "A value is trying to be set on a copy of a slice from a DataFrame.\n",
            "Try using .loc[row_indexer,col_indexer] = value instead\n",
            "\n",
            "See the caveats in the documentation: https://pandas.pydata.org/pandas-docs/stable/user_guide/indexing.html#returning-a-view-versus-a-copy\n",
            "  \n"
          ],
          "name": "stderr"
        },
        {
          "output_type": "execute_result",
          "data": {
            "text/html": [
              "<div>\n",
              "<style scoped>\n",
              "    .dataframe tbody tr th:only-of-type {\n",
              "        vertical-align: middle;\n",
              "    }\n",
              "\n",
              "    .dataframe tbody tr th {\n",
              "        vertical-align: top;\n",
              "    }\n",
              "\n",
              "    .dataframe thead th {\n",
              "        text-align: right;\n",
              "    }\n",
              "</style>\n",
              "<table border=\"1\" class=\"dataframe\">\n",
              "  <thead>\n",
              "    <tr style=\"text-align: right;\">\n",
              "      <th></th>\n",
              "      <th>ID</th>\n",
              "      <th>x1</th>\n",
              "      <th>x2</th>\n",
              "      <th>x3</th>\n",
              "      <th>x4</th>\n",
              "      <th>x5</th>\n",
              "      <th>x6</th>\n",
              "      <th>x7</th>\n",
              "      <th>x8</th>\n",
              "      <th>x9</th>\n",
              "      <th>x10</th>\n",
              "      <th>predicted_y</th>\n",
              "    </tr>\n",
              "  </thead>\n",
              "  <tbody>\n",
              "    <tr>\n",
              "      <th>0</th>\n",
              "      <td>ID_001</td>\n",
              "      <td>0.531</td>\n",
              "      <td>3.611</td>\n",
              "      <td>0.593</td>\n",
              "      <td>-0.334</td>\n",
              "      <td>1.423</td>\n",
              "      <td>1.045</td>\n",
              "      <td>-1.324</td>\n",
              "      <td>2.593</td>\n",
              "      <td>-0.085</td>\n",
              "      <td>2.383</td>\n",
              "      <td>3.0</td>\n",
              "    </tr>\n",
              "    <tr>\n",
              "      <th>1</th>\n",
              "      <td>ID_002</td>\n",
              "      <td>-2.133</td>\n",
              "      <td>-3.412</td>\n",
              "      <td>1.057</td>\n",
              "      <td>0.459</td>\n",
              "      <td>2.413</td>\n",
              "      <td>-0.919</td>\n",
              "      <td>3.076</td>\n",
              "      <td>0.892</td>\n",
              "      <td>3.552</td>\n",
              "      <td>-1.467</td>\n",
              "      <td>0.0</td>\n",
              "    </tr>\n",
              "    <tr>\n",
              "      <th>2</th>\n",
              "      <td>ID_003</td>\n",
              "      <td>0.270</td>\n",
              "      <td>-0.918</td>\n",
              "      <td>0.900</td>\n",
              "      <td>-0.699</td>\n",
              "      <td>2.407</td>\n",
              "      <td>-0.564</td>\n",
              "      <td>3.259</td>\n",
              "      <td>-0.536</td>\n",
              "      <td>1.287</td>\n",
              "      <td>0.427</td>\n",
              "      <td>2.0</td>\n",
              "    </tr>\n",
              "    <tr>\n",
              "      <th>3</th>\n",
              "      <td>ID_004</td>\n",
              "      <td>-0.503</td>\n",
              "      <td>-1.124</td>\n",
              "      <td>3.121</td>\n",
              "      <td>-2.338</td>\n",
              "      <td>0.194</td>\n",
              "      <td>-0.722</td>\n",
              "      <td>0.971</td>\n",
              "      <td>0.682</td>\n",
              "      <td>1.288</td>\n",
              "      <td>0.352</td>\n",
              "      <td>0.0</td>\n",
              "    </tr>\n",
              "    <tr>\n",
              "      <th>4</th>\n",
              "      <td>ID_005</td>\n",
              "      <td>3.244</td>\n",
              "      <td>2.381</td>\n",
              "      <td>1.602</td>\n",
              "      <td>0.400</td>\n",
              "      <td>0.064</td>\n",
              "      <td>-0.859</td>\n",
              "      <td>-2.545</td>\n",
              "      <td>0.422</td>\n",
              "      <td>3.577</td>\n",
              "      <td>0.390</td>\n",
              "      <td>0.0</td>\n",
              "    </tr>\n",
              "  </tbody>\n",
              "</table>\n",
              "</div>"
            ],
            "text/plain": [
              "       ID     x1     x2     x3     x4  ...     x7     x8     x9    x10  predicted_y\n",
              "0  ID_001  0.531  3.611  0.593 -0.334  ... -1.324  2.593 -0.085  2.383          3.0\n",
              "1  ID_002 -2.133 -3.412  1.057  0.459  ...  3.076  0.892  3.552 -1.467          0.0\n",
              "2  ID_003  0.270 -0.918  0.900 -0.699  ...  3.259 -0.536  1.287  0.427          2.0\n",
              "3  ID_004 -0.503 -1.124  3.121 -2.338  ...  0.971  0.682  1.288  0.352          0.0\n",
              "4  ID_005  3.244  2.381  1.602  0.400  ... -2.545  0.422  3.577  0.390          0.0\n",
              "\n",
              "[5 rows x 12 columns]"
            ]
          },
          "metadata": {
            "tags": []
          },
          "execution_count": 50
        }
      ]
    },
    {
      "cell_type": "markdown",
      "metadata": {
        "id": "9HCDP4kls5tC"
      },
      "source": [
        "##Task 3"
      ]
    },
    {
      "cell_type": "code",
      "metadata": {
        "colab": {
          "base_uri": "https://localhost:8080/",
          "height": 976
        },
        "id": "iJbUVp_HlPZb",
        "outputId": "6fcdaffe-bd0b-416c-b4bd-1abb39b4941b"
      },
      "source": [
        "submission = q2_new_data[['ID', 'predicted_y']]\n",
        "submission"
      ],
      "execution_count": 51,
      "outputs": [
        {
          "output_type": "execute_result",
          "data": {
            "text/html": [
              "<div>\n",
              "<style scoped>\n",
              "    .dataframe tbody tr th:only-of-type {\n",
              "        vertical-align: middle;\n",
              "    }\n",
              "\n",
              "    .dataframe tbody tr th {\n",
              "        vertical-align: top;\n",
              "    }\n",
              "\n",
              "    .dataframe thead th {\n",
              "        text-align: right;\n",
              "    }\n",
              "</style>\n",
              "<table border=\"1\" class=\"dataframe\">\n",
              "  <thead>\n",
              "    <tr style=\"text-align: right;\">\n",
              "      <th></th>\n",
              "      <th>ID</th>\n",
              "      <th>predicted_y</th>\n",
              "    </tr>\n",
              "  </thead>\n",
              "  <tbody>\n",
              "    <tr>\n",
              "      <th>0</th>\n",
              "      <td>ID_001</td>\n",
              "      <td>3.0</td>\n",
              "    </tr>\n",
              "    <tr>\n",
              "      <th>1</th>\n",
              "      <td>ID_002</td>\n",
              "      <td>0.0</td>\n",
              "    </tr>\n",
              "    <tr>\n",
              "      <th>2</th>\n",
              "      <td>ID_003</td>\n",
              "      <td>2.0</td>\n",
              "    </tr>\n",
              "    <tr>\n",
              "      <th>3</th>\n",
              "      <td>ID_004</td>\n",
              "      <td>0.0</td>\n",
              "    </tr>\n",
              "    <tr>\n",
              "      <th>4</th>\n",
              "      <td>ID_005</td>\n",
              "      <td>0.0</td>\n",
              "    </tr>\n",
              "    <tr>\n",
              "      <th>5</th>\n",
              "      <td>ID_006</td>\n",
              "      <td>0.0</td>\n",
              "    </tr>\n",
              "    <tr>\n",
              "      <th>6</th>\n",
              "      <td>ID_007</td>\n",
              "      <td>0.0</td>\n",
              "    </tr>\n",
              "    <tr>\n",
              "      <th>7</th>\n",
              "      <td>ID_008</td>\n",
              "      <td>1.0</td>\n",
              "    </tr>\n",
              "    <tr>\n",
              "      <th>8</th>\n",
              "      <td>ID_009</td>\n",
              "      <td>0.0</td>\n",
              "    </tr>\n",
              "    <tr>\n",
              "      <th>9</th>\n",
              "      <td>ID_010</td>\n",
              "      <td>3.0</td>\n",
              "    </tr>\n",
              "    <tr>\n",
              "      <th>10</th>\n",
              "      <td>ID_011</td>\n",
              "      <td>2.0</td>\n",
              "    </tr>\n",
              "    <tr>\n",
              "      <th>11</th>\n",
              "      <td>ID_012</td>\n",
              "      <td>2.0</td>\n",
              "    </tr>\n",
              "    <tr>\n",
              "      <th>12</th>\n",
              "      <td>ID_013</td>\n",
              "      <td>2.0</td>\n",
              "    </tr>\n",
              "    <tr>\n",
              "      <th>13</th>\n",
              "      <td>ID_014</td>\n",
              "      <td>1.0</td>\n",
              "    </tr>\n",
              "    <tr>\n",
              "      <th>14</th>\n",
              "      <td>ID_015</td>\n",
              "      <td>3.0</td>\n",
              "    </tr>\n",
              "    <tr>\n",
              "      <th>15</th>\n",
              "      <td>ID_016</td>\n",
              "      <td>0.0</td>\n",
              "    </tr>\n",
              "    <tr>\n",
              "      <th>16</th>\n",
              "      <td>ID_017</td>\n",
              "      <td>3.0</td>\n",
              "    </tr>\n",
              "    <tr>\n",
              "      <th>17</th>\n",
              "      <td>ID_018</td>\n",
              "      <td>0.0</td>\n",
              "    </tr>\n",
              "    <tr>\n",
              "      <th>18</th>\n",
              "      <td>ID_019</td>\n",
              "      <td>2.0</td>\n",
              "    </tr>\n",
              "    <tr>\n",
              "      <th>19</th>\n",
              "      <td>ID_020</td>\n",
              "      <td>2.0</td>\n",
              "    </tr>\n",
              "    <tr>\n",
              "      <th>20</th>\n",
              "      <td>ID_021</td>\n",
              "      <td>1.0</td>\n",
              "    </tr>\n",
              "    <tr>\n",
              "      <th>21</th>\n",
              "      <td>ID_022</td>\n",
              "      <td>0.0</td>\n",
              "    </tr>\n",
              "    <tr>\n",
              "      <th>22</th>\n",
              "      <td>ID_023</td>\n",
              "      <td>2.0</td>\n",
              "    </tr>\n",
              "    <tr>\n",
              "      <th>23</th>\n",
              "      <td>ID_024</td>\n",
              "      <td>1.0</td>\n",
              "    </tr>\n",
              "    <tr>\n",
              "      <th>24</th>\n",
              "      <td>ID_025</td>\n",
              "      <td>2.0</td>\n",
              "    </tr>\n",
              "    <tr>\n",
              "      <th>25</th>\n",
              "      <td>ID_026</td>\n",
              "      <td>3.0</td>\n",
              "    </tr>\n",
              "    <tr>\n",
              "      <th>26</th>\n",
              "      <td>ID_027</td>\n",
              "      <td>3.0</td>\n",
              "    </tr>\n",
              "    <tr>\n",
              "      <th>27</th>\n",
              "      <td>ID_028</td>\n",
              "      <td>0.0</td>\n",
              "    </tr>\n",
              "    <tr>\n",
              "      <th>28</th>\n",
              "      <td>ID_029</td>\n",
              "      <td>3.0</td>\n",
              "    </tr>\n",
              "    <tr>\n",
              "      <th>29</th>\n",
              "      <td>ID_030</td>\n",
              "      <td>0.0</td>\n",
              "    </tr>\n",
              "  </tbody>\n",
              "</table>\n",
              "</div>"
            ],
            "text/plain": [
              "        ID  predicted_y\n",
              "0   ID_001          3.0\n",
              "1   ID_002          0.0\n",
              "2   ID_003          2.0\n",
              "3   ID_004          0.0\n",
              "4   ID_005          0.0\n",
              "5   ID_006          0.0\n",
              "6   ID_007          0.0\n",
              "7   ID_008          1.0\n",
              "8   ID_009          0.0\n",
              "9   ID_010          3.0\n",
              "10  ID_011          2.0\n",
              "11  ID_012          2.0\n",
              "12  ID_013          2.0\n",
              "13  ID_014          1.0\n",
              "14  ID_015          3.0\n",
              "15  ID_016          0.0\n",
              "16  ID_017          3.0\n",
              "17  ID_018          0.0\n",
              "18  ID_019          2.0\n",
              "19  ID_020          2.0\n",
              "20  ID_021          1.0\n",
              "21  ID_022          0.0\n",
              "22  ID_023          2.0\n",
              "23  ID_024          1.0\n",
              "24  ID_025          2.0\n",
              "25  ID_026          3.0\n",
              "26  ID_027          3.0\n",
              "27  ID_028          0.0\n",
              "28  ID_029          3.0\n",
              "29  ID_030          0.0"
            ]
          },
          "metadata": {
            "tags": []
          },
          "execution_count": 51
        }
      ]
    }
  ]
}